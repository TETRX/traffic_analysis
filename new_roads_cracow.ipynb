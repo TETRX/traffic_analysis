{
 "cells": [
  {
   "cell_type": "code",
   "execution_count": 7,
   "metadata": {
    "pycharm": {
     "name": "#%%\n"
    }
   },
   "outputs": [],
   "source": [
    "import random\n",
    "\n",
    "import osmnx as ox\n",
    "import networkx as nx\n",
    "from multiprocessing import Pool\n",
    "import itertools\n",
    "\n",
    "\n",
    "import matplotlib.pyplot as plt\n",
    "from typing import (\n",
    "    List,\n",
    "    Set,\n",
    "    Tuple,\n",
    ")\n",
    "\n",
    "# because jupyter is bad about changes in imported stuff\n",
    "try:\n",
    "    import importlib\n",
    "    import graph_edit_functions\n",
    "    import centrality_algorithms\n",
    "    import plot_functions\n",
    "    importlib.reload(graph_edit_functions)\n",
    "    importlib.reload(plot_functions)\n",
    "    importlib.reload(centrality_algorithms)\n",
    "except Exception as e:\n",
    "    print(e)\n",
    "\n",
    "from graph_edit_functions import *\n",
    "from centrality_algorithms import *\n",
    "from plot_functions import *"
   ]
  },
  {
   "cell_type": "markdown",
   "source": [
    "# New road: Galicyjska - Nowohucka\n",
    "\n",
    "![](cracow_galicyjska-nowohucka.png)"
   ],
   "metadata": {
    "collapsed": false,
    "pycharm": {
     "name": "#%% md\n"
    }
   }
  },
  {
   "cell_type": "code",
   "execution_count": 8,
   "outputs": [
    {
     "name": "stderr",
     "output_type": "stream",
     "text": [
      "/home/pbilko/PycharmProjects/KeywordExtractor (1)/venv/lib/python3.8/site-packages/osmnx/geocoder.py:110: FutureWarning: The frame.append method is deprecated and will be removed from pandas in a future version. Use pandas.concat instead.\n",
      "  gdf = gdf.append(_geocode_query_to_gdf(q, wr, by_osmid))\n"
     ]
    }
   ],
   "source": [
    "g, nodes, edges = get_graph_from_place('Kraków, Poland')"
   ],
   "metadata": {
    "collapsed": false,
    "pycharm": {
     "name": "#%%\n"
    }
   }
  },
  {
   "cell_type": "code",
   "execution_count": 9,
   "outputs": [
    {
     "data": {
      "text/plain": "{880303279}"
     },
     "execution_count": 9,
     "metadata": {},
     "output_type": "execute_result"
    }
   ],
   "source": [
    "get_crossroad_nodes(edges, 'Ciepłownicza', 'Plac Błonie')"
   ],
   "metadata": {
    "collapsed": false,
    "pycharm": {
     "name": "#%%\n"
    }
   }
  },
  {
   "cell_type": "code",
   "execution_count": 4,
   "outputs": [],
   "source": [
    "# relevant_nodes = relevant_edges.index.to_list()\n",
    "node1 = 880303279  # This is a slightly different point on Ciepłownicza st. as OSMNX seems to lose the Skręcona st. in translation - from OSMNX hacking, see above\n",
    "node2 = 3984101972  # End of Galicyjska st. - from OpenStreetMap.org\n",
    "\n",
    "add_edge(g, node1, node2)"
   ],
   "metadata": {
    "collapsed": false,
    "pycharm": {
     "name": "#%%\n"
    }
   }
  },
  {
   "cell_type": "code",
   "execution_count": null,
   "outputs": [],
   "source": [
    "plot_new_roads(g, [(node1, node2)], 'Galicyjska-Nowohucka')"
   ],
   "metadata": {
    "collapsed": false,
    "pycharm": {
     "name": "#%%\n",
     "is_executing": true
    }
   }
  },
  {
   "cell_type": "markdown",
   "source": [
    "## Measuring centrality"
   ],
   "metadata": {
    "collapsed": false,
    "pycharm": {
     "name": "#%% md\n"
    }
   }
  },
  {
   "cell_type": "code",
   "execution_count": 6,
   "outputs": [
    {
     "name": "stderr",
     "output_type": "stream",
     "text": [
      "Process ForkPoolWorker-3:\n",
      "Process ForkPoolWorker-4:\n",
      "Process ForkPoolWorker-13:\n",
      "Process ForkPoolWorker-9:\n",
      "Process ForkPoolWorker-5:\n",
      "Process ForkPoolWorker-11:\n",
      "Process ForkPoolWorker-6:\n",
      "Process ForkPoolWorker-12:\n",
      "Process ForkPoolWorker-14:\n",
      "Process ForkPoolWorker-15:\n",
      "Traceback (most recent call last):\n",
      "Traceback (most recent call last):\n",
      "Traceback (most recent call last):\n",
      "Traceback (most recent call last):\n",
      "Traceback (most recent call last):\n",
      "  File \"/usr/lib/python3.8/multiprocessing/process.py\", line 315, in _bootstrap\n",
      "    self.run()\n",
      "  File \"/usr/lib/python3.8/multiprocessing/process.py\", line 315, in _bootstrap\n",
      "    self.run()\n",
      "Traceback (most recent call last):\n",
      "Traceback (most recent call last):\n",
      "Traceback (most recent call last):\n",
      "  File \"/usr/lib/python3.8/multiprocessing/process.py\", line 315, in _bootstrap\n",
      "    self.run()\n",
      "Traceback (most recent call last):\n",
      "  File \"/usr/lib/python3.8/multiprocessing/process.py\", line 315, in _bootstrap\n",
      "    self.run()\n",
      "  File \"/usr/lib/python3.8/multiprocessing/process.py\", line 315, in _bootstrap\n",
      "    self.run()\n",
      "  File \"/usr/lib/python3.8/multiprocessing/process.py\", line 315, in _bootstrap\n",
      "    self.run()\n",
      "  File \"/usr/lib/python3.8/multiprocessing/process.py\", line 108, in run\n",
      "    self._target(*self._args, **self._kwargs)\n",
      "  File \"/usr/lib/python3.8/multiprocessing/process.py\", line 315, in _bootstrap\n",
      "    self.run()\n",
      "  File \"/usr/lib/python3.8/multiprocessing/process.py\", line 108, in run\n",
      "    self._target(*self._args, **self._kwargs)\n",
      "Traceback (most recent call last):\n",
      "  File \"/usr/lib/python3.8/multiprocessing/process.py\", line 108, in run\n",
      "    self._target(*self._args, **self._kwargs)\n",
      "  File \"/usr/lib/python3.8/multiprocessing/process.py\", line 108, in run\n",
      "    self._target(*self._args, **self._kwargs)\n",
      "  File \"/usr/lib/python3.8/multiprocessing/pool.py\", line 125, in worker\n",
      "    result = (True, func(*args, **kwds))\n",
      "  File \"/usr/lib/python3.8/multiprocessing/process.py\", line 108, in run\n",
      "    self._target(*self._args, **self._kwargs)\n",
      "  File \"/usr/lib/python3.8/multiprocessing/process.py\", line 315, in _bootstrap\n",
      "    self.run()\n",
      "  File \"/usr/lib/python3.8/multiprocessing/process.py\", line 108, in run\n",
      "    self._target(*self._args, **self._kwargs)\n",
      "  File \"/usr/lib/python3.8/multiprocessing/process.py\", line 315, in _bootstrap\n",
      "    self.run()\n",
      "  File \"/usr/lib/python3.8/multiprocessing/pool.py\", line 125, in worker\n",
      "    result = (True, func(*args, **kwds))\n",
      "  File \"/usr/lib/python3.8/multiprocessing/pool.py\", line 125, in worker\n",
      "    result = (True, func(*args, **kwds))\n",
      "  File \"/usr/lib/python3.8/multiprocessing/process.py\", line 108, in run\n",
      "    self._target(*self._args, **self._kwargs)\n",
      "  File \"/usr/lib/python3.8/multiprocessing/process.py\", line 315, in _bootstrap\n",
      "    self.run()\n",
      "  File \"/usr/lib/python3.8/multiprocessing/pool.py\", line 125, in worker\n",
      "    result = (True, func(*args, **kwds))\n",
      "  File \"/usr/lib/python3.8/multiprocessing/pool.py\", line 125, in worker\n",
      "    result = (True, func(*args, **kwds))\n",
      "  File \"/usr/lib/python3.8/multiprocessing/pool.py\", line 51, in starmapstar\n",
      "    return list(itertools.starmap(args[0], args[1]))\n",
      "  File \"/usr/lib/python3.8/multiprocessing/pool.py\", line 125, in worker\n",
      "    result = (True, func(*args, **kwds))\n",
      "  File \"/usr/lib/python3.8/multiprocessing/process.py\", line 108, in run\n",
      "    self._target(*self._args, **self._kwargs)\n",
      "  File \"/usr/lib/python3.8/multiprocessing/pool.py\", line 51, in starmapstar\n",
      "    return list(itertools.starmap(args[0], args[1]))\n",
      "  File \"/usr/lib/python3.8/multiprocessing/pool.py\", line 51, in starmapstar\n",
      "    return list(itertools.starmap(args[0], args[1]))\n",
      "  File \"/usr/lib/python3.8/multiprocessing/pool.py\", line 51, in starmapstar\n",
      "    return list(itertools.starmap(args[0], args[1]))\n",
      "  File \"/usr/lib/python3.8/multiprocessing/process.py\", line 108, in run\n",
      "    self._target(*self._args, **self._kwargs)\n",
      "  File \"/usr/lib/python3.8/multiprocessing/process.py\", line 108, in run\n",
      "    self._target(*self._args, **self._kwargs)\n",
      "  File \"/home/pbilko/PycharmProjects/KeywordExtractor (1)/venv/lib/python3.8/site-packages/networkx/algorithms/centrality/betweenness_subset.py\", line 106, in betweenness_centrality_subset\n",
      "    S, P, sigma, _ = shortest_path(G, s)\n",
      "  File \"/usr/lib/python3.8/multiprocessing/pool.py\", line 51, in starmapstar\n",
      "    return list(itertools.starmap(args[0], args[1]))\n",
      "  File \"/usr/lib/python3.8/multiprocessing/pool.py\", line 125, in worker\n",
      "    result = (True, func(*args, **kwds))\n",
      "  File \"/usr/lib/python3.8/multiprocessing/pool.py\", line 51, in starmapstar\n",
      "    return list(itertools.starmap(args[0], args[1]))\n",
      "  File \"/usr/lib/python3.8/multiprocessing/pool.py\", line 125, in worker\n",
      "    result = (True, func(*args, **kwds))\n",
      "  File \"/home/pbilko/PycharmProjects/KeywordExtractor (1)/venv/lib/python3.8/site-packages/networkx/algorithms/centrality/betweenness_subset.py\", line 106, in betweenness_centrality_subset\n",
      "    S, P, sigma, _ = shortest_path(G, s)\n",
      "  File \"/home/pbilko/PycharmProjects/KeywordExtractor (1)/venv/lib/python3.8/site-packages/networkx/algorithms/centrality/betweenness_subset.py\", line 106, in betweenness_centrality_subset\n",
      "    S, P, sigma, _ = shortest_path(G, s)\n",
      "  File \"/usr/lib/python3.8/multiprocessing/pool.py\", line 51, in starmapstar\n",
      "    return list(itertools.starmap(args[0], args[1]))\n",
      "  File \"/usr/lib/python3.8/multiprocessing/pool.py\", line 125, in worker\n",
      "    result = (True, func(*args, **kwds))\n",
      "  File \"/home/pbilko/PycharmProjects/KeywordExtractor (1)/venv/lib/python3.8/site-packages/networkx/algorithms/centrality/betweenness.py\", line 276, in _single_source_shortest_path_basic\n",
      "    sigma[w] += sigmav\n",
      "  File \"/usr/lib/python3.8/multiprocessing/pool.py\", line 125, in worker\n",
      "    result = (True, func(*args, **kwds))\n",
      "  File \"/home/pbilko/PycharmProjects/KeywordExtractor (1)/venv/lib/python3.8/site-packages/networkx/algorithms/centrality/betweenness_subset.py\", line 109, in betweenness_centrality_subset\n",
      "    b = _accumulate_subset(b, S, P, sigma, s, targets)\n",
      "  File \"/home/pbilko/PycharmProjects/KeywordExtractor (1)/venv/lib/python3.8/site-packages/networkx/algorithms/centrality/betweenness_subset.py\", line 109, in betweenness_centrality_subset\n",
      "    b = _accumulate_subset(b, S, P, sigma, s, targets)\n",
      "KeyboardInterrupt\n",
      "  File \"/home/pbilko/PycharmProjects/KeywordExtractor (1)/venv/lib/python3.8/site-packages/networkx/algorithms/centrality/betweenness.py\", line 271, in _single_source_shortest_path_basic\n",
      "    for w in G[v]:\n",
      "  File \"/usr/lib/python3.8/multiprocessing/pool.py\", line 51, in starmapstar\n",
      "    return list(itertools.starmap(args[0], args[1]))\n",
      "  File \"/home/pbilko/PycharmProjects/KeywordExtractor (1)/venv/lib/python3.8/site-packages/networkx/algorithms/centrality/betweenness.py\", line 260, in _single_source_shortest_path_basic\n",
      "    P[v] = []\n",
      "  File \"/home/pbilko/PycharmProjects/KeywordExtractor (1)/venv/lib/python3.8/site-packages/networkx/algorithms/centrality/betweenness_subset.py\", line 106, in betweenness_centrality_subset\n",
      "    S, P, sigma, _ = shortest_path(G, s)\n",
      "  File \"/home/pbilko/PycharmProjects/KeywordExtractor (1)/venv/lib/python3.8/site-packages/networkx/algorithms/centrality/betweenness_subset.py\", line 222, in _accumulate_subset\n",
      "    betweenness[w] += delta[w]\n",
      "  File \"/usr/lib/python3.8/multiprocessing/pool.py\", line 51, in starmapstar\n",
      "    return list(itertools.starmap(args[0], args[1]))\n",
      "  File \"/usr/lib/python3.8/multiprocessing/pool.py\", line 51, in starmapstar\n",
      "    return list(itertools.starmap(args[0], args[1]))\n",
      "  File \"/home/pbilko/PycharmProjects/KeywordExtractor (1)/venv/lib/python3.8/site-packages/networkx/algorithms/centrality/betweenness.py\", line 270, in _single_source_shortest_path_basic\n",
      "    sigmav = sigma[v]\n",
      "  File \"/home/pbilko/PycharmProjects/KeywordExtractor (1)/venv/lib/python3.8/site-packages/networkx/algorithms/centrality/betweenness_subset.py\", line 106, in betweenness_centrality_subset\n",
      "    S, P, sigma, _ = shortest_path(G, s)\n",
      "  File \"/home/pbilko/PycharmProjects/KeywordExtractor (1)/venv/lib/python3.8/site-packages/networkx/algorithms/centrality/betweenness_subset.py\", line 109, in betweenness_centrality_subset\n",
      "    b = _accumulate_subset(b, S, P, sigma, s, targets)\n",
      "  File \"/home/pbilko/PycharmProjects/KeywordExtractor (1)/venv/lib/python3.8/site-packages/networkx/algorithms/centrality/betweenness_subset.py\", line 106, in betweenness_centrality_subset\n",
      "    S, P, sigma, _ = shortest_path(G, s)\n",
      "  File \"/home/pbilko/PycharmProjects/KeywordExtractor (1)/venv/lib/python3.8/site-packages/networkx/algorithms/centrality/betweenness_subset.py\", line 214, in _accumulate_subset\n",
      "    w = S.pop()\n",
      "  File \"/home/pbilko/PycharmProjects/KeywordExtractor (1)/venv/lib/python3.8/site-packages/networkx/algorithms/centrality/betweenness_subset.py\", line 109, in betweenness_centrality_subset\n",
      "    b = _accumulate_subset(b, S, P, sigma, s, targets)\n",
      "KeyboardInterrupt\n",
      "  File \"/home/pbilko/PycharmProjects/KeywordExtractor (1)/venv/lib/python3.8/site-packages/networkx/algorithms/centrality/betweenness.py\", line 271, in _single_source_shortest_path_basic\n",
      "    for w in G[v]:\n",
      "  File \"/home/pbilko/PycharmProjects/KeywordExtractor (1)/venv/lib/python3.8/site-packages/networkx/algorithms/centrality/betweenness_subset.py\", line 219, in _accumulate_subset\n",
      "    for v in P[w]:\n",
      "  File \"/home/pbilko/PycharmProjects/KeywordExtractor (1)/venv/lib/python3.8/site-packages/networkx/classes/graph.py\", line 476, in __getitem__\n",
      "    return self.adj[n]\n",
      "KeyboardInterrupt\n",
      "KeyboardInterrupt\n",
      "KeyboardInterrupt\n",
      "  File \"/home/pbilko/PycharmProjects/KeywordExtractor (1)/venv/lib/python3.8/site-packages/networkx/classes/digraph.py\", line 340, in adj\n",
      "    return AdjacencyView(self._succ)\n",
      "KeyboardInterrupt\n",
      "KeyboardInterrupt\n",
      "KeyboardInterrupt\n",
      "  File \"/home/pbilko/PycharmProjects/KeywordExtractor (1)/venv/lib/python3.8/site-packages/networkx/classes/coreviews.py\", line 44, in __init__\n",
      "    def __init__(self, d):\n",
      "  File \"/home/pbilko/PycharmProjects/KeywordExtractor (1)/venv/lib/python3.8/site-packages/networkx/algorithms/centrality/betweenness.py\", line 271, in _single_source_shortest_path_basic\n",
      "    for w in G[v]:\n",
      "KeyboardInterrupt\n",
      "  File \"/home/pbilko/PycharmProjects/KeywordExtractor (1)/venv/lib/python3.8/site-packages/networkx/classes/graph.py\", line 476, in __getitem__\n",
      "    return self.adj[n]\n",
      "  File \"/home/pbilko/PycharmProjects/KeywordExtractor (1)/venv/lib/python3.8/site-packages/networkx/classes/coreviews.py\", line 82, in __getitem__\n",
      "    return AtlasView(self._atlas[name])\n",
      "KeyboardInterrupt\n",
      "Process ForkPoolWorker-1:\n",
      "Process ForkPoolWorker-16:\n",
      "KeyboardInterrupt\n",
      "Traceback (most recent call last):\n",
      "Traceback (most recent call last):\n",
      "  File \"/usr/lib/python3.8/multiprocessing/process.py\", line 315, in _bootstrap\n",
      "    self.run()\n",
      "  File \"/usr/lib/python3.8/multiprocessing/process.py\", line 108, in run\n",
      "    self._target(*self._args, **self._kwargs)\n",
      "  File \"/usr/lib/python3.8/multiprocessing/pool.py\", line 125, in worker\n",
      "    result = (True, func(*args, **kwds))\n",
      "  File \"/usr/lib/python3.8/multiprocessing/pool.py\", line 51, in starmapstar\n",
      "    return list(itertools.starmap(args[0], args[1]))\n",
      "  File \"/home/pbilko/PycharmProjects/KeywordExtractor (1)/venv/lib/python3.8/site-packages/networkx/algorithms/centrality/betweenness_subset.py\", line 106, in betweenness_centrality_subset\n",
      "    S, P, sigma, _ = shortest_path(G, s)\n",
      "  File \"/home/pbilko/PycharmProjects/KeywordExtractor (1)/venv/lib/python3.8/site-packages/networkx/algorithms/centrality/betweenness.py\", line 260, in _single_source_shortest_path_basic\n",
      "    P[v] = []\n",
      "  File \"/usr/lib/python3.8/multiprocessing/process.py\", line 315, in _bootstrap\n",
      "    self.run()\n",
      "KeyboardInterrupt\n",
      "  File \"/usr/lib/python3.8/multiprocessing/process.py\", line 108, in run\n",
      "    self._target(*self._args, **self._kwargs)\n",
      "  File \"/usr/lib/python3.8/multiprocessing/pool.py\", line 125, in worker\n",
      "    result = (True, func(*args, **kwds))\n",
      "  File \"/usr/lib/python3.8/multiprocessing/pool.py\", line 51, in starmapstar\n",
      "    return list(itertools.starmap(args[0], args[1]))\n",
      "  File \"/home/pbilko/PycharmProjects/KeywordExtractor (1)/venv/lib/python3.8/site-packages/networkx/algorithms/centrality/betweenness_subset.py\", line 106, in betweenness_centrality_subset\n",
      "    S, P, sigma, _ = shortest_path(G, s)\n",
      "  File \"/home/pbilko/PycharmProjects/KeywordExtractor (1)/venv/lib/python3.8/site-packages/networkx/algorithms/centrality/betweenness.py\", line 260, in _single_source_shortest_path_basic\n",
      "    P[v] = []\n",
      "Process ForkPoolWorker-10:\n"
     ]
    },
    {
     "ename": "KeyboardInterrupt",
     "evalue": "",
     "output_type": "error",
     "traceback": [
      "\u001B[0;31m---------------------------------------------------------------------------\u001B[0m",
      "\u001B[0;31mKeyboardInterrupt\u001B[0m                         Traceback (most recent call last)",
      "Input \u001B[0;32mIn [6]\u001B[0m, in \u001B[0;36m<cell line: 1>\u001B[0;34m()\u001B[0m\n\u001B[0;32m----> 1\u001B[0m \u001B[43mplot_centralities\u001B[49m\u001B[43m(\u001B[49m\u001B[43mg\u001B[49m\u001B[43m,\u001B[49m\u001B[43m \u001B[49m\u001B[38;5;124;43m'\u001B[39;49m\u001B[38;5;124;43mAdded road Galicyjska-Nowohucka\u001B[39;49m\u001B[38;5;124;43m'\u001B[39;49m\u001B[43m)\u001B[49m\n",
      "Input \u001B[0;32mIn [1]\u001B[0m, in \u001B[0;36mplot_centralities\u001B[0;34m(g, title)\u001B[0m\n\u001B[1;32m     60\u001B[0m \u001B[38;5;28;01mdef\u001B[39;00m \u001B[38;5;21mplot_centralities\u001B[39m(g, title: \u001B[38;5;28mstr\u001B[39m):\n\u001B[1;32m     61\u001B[0m     path_title \u001B[38;5;241m=\u001B[39m title\u001B[38;5;241m.\u001B[39mlower()\u001B[38;5;241m.\u001B[39mreplace(\u001B[38;5;124m'\u001B[39m\u001B[38;5;124m \u001B[39m\u001B[38;5;124m'\u001B[39m, \u001B[38;5;124m'\u001B[39m\u001B[38;5;124m_\u001B[39m\u001B[38;5;124m'\u001B[39m)\n\u001B[0;32m---> 63\u001B[0m     bc_dict \u001B[38;5;241m=\u001B[39m \u001B[43mbetweenness_centrality_parallel\u001B[49m\u001B[43m(\u001B[49m\u001B[43mg\u001B[49m\u001B[43m,\u001B[49m\u001B[43m \u001B[49m\u001B[43mprocesses\u001B[49m\u001B[38;5;241;43m=\u001B[39;49m\u001B[38;5;241;43m16\u001B[39;49m\u001B[43m)\u001B[49m\n\u001B[1;32m     64\u001B[0m     basic_plot(g, bc_dict, \u001B[38;5;124mf\u001B[39m\u001B[38;5;124m'\u001B[39m\u001B[38;5;124mBetweenness Centrality - with \u001B[39m\u001B[38;5;132;01m{\u001B[39;00mtitle\u001B[38;5;132;01m}\u001B[39;00m\u001B[38;5;124m'\u001B[39m, path\u001B[38;5;241m=\u001B[39m\u001B[38;5;124mf\u001B[39m\u001B[38;5;124m'\u001B[39m\u001B[38;5;124mimages/betweenness_cracow_\u001B[39m\u001B[38;5;132;01m{\u001B[39;00mpath_title\u001B[38;5;132;01m}\u001B[39;00m\u001B[38;5;124m.png\u001B[39m\u001B[38;5;124m'\u001B[39m)\n\u001B[1;32m     66\u001B[0m     cc_dict \u001B[38;5;241m=\u001B[39m clustering_coefficient(g)\n",
      "File \u001B[0;32m~/STUDIA/Eksploracja Danych/project/traffic_analysis-master/centrality_algorithms.py:26\u001B[0m, in \u001B[0;36mbetweenness_centrality_parallel\u001B[0;34m(G, processes, weight, path)\u001B[0m\n\u001B[1;32m     24\u001B[0m node_chunks \u001B[38;5;241m=\u001B[39m \u001B[38;5;28mlist\u001B[39m(chunks(G1\u001B[38;5;241m.\u001B[39mnodes(), \u001B[38;5;28mint\u001B[39m(G1\u001B[38;5;241m.\u001B[39morder() \u001B[38;5;241m/\u001B[39m node_divisor)))\n\u001B[1;32m     25\u001B[0m num_chunks \u001B[38;5;241m=\u001B[39m \u001B[38;5;28mlen\u001B[39m(node_chunks)\n\u001B[0;32m---> 26\u001B[0m bt_sc \u001B[38;5;241m=\u001B[39m \u001B[43mp\u001B[49m\u001B[38;5;241;43m.\u001B[39;49m\u001B[43mstarmap\u001B[49m\u001B[43m(\u001B[49m\n\u001B[1;32m     27\u001B[0m \u001B[43m    \u001B[49m\u001B[43mnx\u001B[49m\u001B[38;5;241;43m.\u001B[39;49m\u001B[43mbetweenness_centrality_subset\u001B[49m\u001B[43m,\u001B[49m\n\u001B[1;32m     28\u001B[0m \u001B[43m    \u001B[49m\u001B[38;5;28;43mzip\u001B[39;49m\u001B[43m(\u001B[49m\n\u001B[1;32m     29\u001B[0m \u001B[43m        \u001B[49m\u001B[43m[\u001B[49m\u001B[43mG1\u001B[49m\u001B[43m]\u001B[49m\u001B[43m \u001B[49m\u001B[38;5;241;43m*\u001B[39;49m\u001B[43m \u001B[49m\u001B[43mnum_chunks\u001B[49m\u001B[43m,\u001B[49m\n\u001B[1;32m     30\u001B[0m \u001B[43m        \u001B[49m\u001B[43mnode_chunks\u001B[49m\u001B[43m,\u001B[49m\n\u001B[1;32m     31\u001B[0m \u001B[43m        \u001B[49m\u001B[43m[\u001B[49m\u001B[38;5;28;43mlist\u001B[39;49m\u001B[43m(\u001B[49m\u001B[43mG\u001B[49m\u001B[43m)\u001B[49m\u001B[43m]\u001B[49m\u001B[43m \u001B[49m\u001B[38;5;241;43m*\u001B[39;49m\u001B[43m \u001B[49m\u001B[43mnum_chunks\u001B[49m\u001B[43m,\u001B[49m\n\u001B[1;32m     32\u001B[0m \u001B[43m        \u001B[49m\u001B[43m[\u001B[49m\u001B[38;5;28;43;01mTrue\u001B[39;49;00m\u001B[43m]\u001B[49m\u001B[43m \u001B[49m\u001B[38;5;241;43m*\u001B[39;49m\u001B[43m \u001B[49m\u001B[43mnum_chunks\u001B[49m\u001B[43m,\u001B[49m\n\u001B[1;32m     33\u001B[0m \u001B[43m        \u001B[49m\u001B[43m[\u001B[49m\u001B[43mweight\u001B[49m\u001B[43m]\u001B[49m\u001B[43m \u001B[49m\u001B[38;5;241;43m*\u001B[39;49m\u001B[43m \u001B[49m\u001B[43mnum_chunks\u001B[49m\u001B[43m,\u001B[49m\n\u001B[1;32m     34\u001B[0m \u001B[43m    \u001B[49m\u001B[43m)\u001B[49m\u001B[43m,\u001B[49m\n\u001B[1;32m     35\u001B[0m \u001B[43m\u001B[49m\u001B[43m)\u001B[49m\n\u001B[1;32m     36\u001B[0m p\u001B[38;5;241m.\u001B[39mclose()\n\u001B[1;32m     37\u001B[0m \u001B[38;5;66;03m# Reduce the partial solutions\u001B[39;00m\n",
      "File \u001B[0;32m/usr/lib/python3.8/multiprocessing/pool.py:372\u001B[0m, in \u001B[0;36mPool.starmap\u001B[0;34m(self, func, iterable, chunksize)\u001B[0m\n\u001B[1;32m    366\u001B[0m \u001B[38;5;28;01mdef\u001B[39;00m \u001B[38;5;21mstarmap\u001B[39m(\u001B[38;5;28mself\u001B[39m, func, iterable, chunksize\u001B[38;5;241m=\u001B[39m\u001B[38;5;28;01mNone\u001B[39;00m):\n\u001B[1;32m    367\u001B[0m     \u001B[38;5;124;03m'''\u001B[39;00m\n\u001B[1;32m    368\u001B[0m \u001B[38;5;124;03m    Like `map()` method but the elements of the `iterable` are expected to\u001B[39;00m\n\u001B[1;32m    369\u001B[0m \u001B[38;5;124;03m    be iterables as well and will be unpacked as arguments. Hence\u001B[39;00m\n\u001B[1;32m    370\u001B[0m \u001B[38;5;124;03m    `func` and (a, b) becomes func(a, b).\u001B[39;00m\n\u001B[1;32m    371\u001B[0m \u001B[38;5;124;03m    '''\u001B[39;00m\n\u001B[0;32m--> 372\u001B[0m     \u001B[38;5;28;01mreturn\u001B[39;00m \u001B[38;5;28;43mself\u001B[39;49m\u001B[38;5;241;43m.\u001B[39;49m\u001B[43m_map_async\u001B[49m\u001B[43m(\u001B[49m\u001B[43mfunc\u001B[49m\u001B[43m,\u001B[49m\u001B[43m \u001B[49m\u001B[43miterable\u001B[49m\u001B[43m,\u001B[49m\u001B[43m \u001B[49m\u001B[43mstarmapstar\u001B[49m\u001B[43m,\u001B[49m\u001B[43m \u001B[49m\u001B[43mchunksize\u001B[49m\u001B[43m)\u001B[49m\u001B[38;5;241;43m.\u001B[39;49m\u001B[43mget\u001B[49m\u001B[43m(\u001B[49m\u001B[43m)\u001B[49m\n",
      "File \u001B[0;32m/usr/lib/python3.8/multiprocessing/pool.py:765\u001B[0m, in \u001B[0;36mApplyResult.get\u001B[0;34m(self, timeout)\u001B[0m\n\u001B[1;32m    764\u001B[0m \u001B[38;5;28;01mdef\u001B[39;00m \u001B[38;5;21mget\u001B[39m(\u001B[38;5;28mself\u001B[39m, timeout\u001B[38;5;241m=\u001B[39m\u001B[38;5;28;01mNone\u001B[39;00m):\n\u001B[0;32m--> 765\u001B[0m     \u001B[38;5;28;43mself\u001B[39;49m\u001B[38;5;241;43m.\u001B[39;49m\u001B[43mwait\u001B[49m\u001B[43m(\u001B[49m\u001B[43mtimeout\u001B[49m\u001B[43m)\u001B[49m\n\u001B[1;32m    766\u001B[0m     \u001B[38;5;28;01mif\u001B[39;00m \u001B[38;5;129;01mnot\u001B[39;00m \u001B[38;5;28mself\u001B[39m\u001B[38;5;241m.\u001B[39mready():\n\u001B[1;32m    767\u001B[0m         \u001B[38;5;28;01mraise\u001B[39;00m \u001B[38;5;167;01mTimeoutError\u001B[39;00m\n",
      "File \u001B[0;32m/usr/lib/python3.8/multiprocessing/pool.py:762\u001B[0m, in \u001B[0;36mApplyResult.wait\u001B[0;34m(self, timeout)\u001B[0m\n\u001B[1;32m    761\u001B[0m \u001B[38;5;28;01mdef\u001B[39;00m \u001B[38;5;21mwait\u001B[39m(\u001B[38;5;28mself\u001B[39m, timeout\u001B[38;5;241m=\u001B[39m\u001B[38;5;28;01mNone\u001B[39;00m):\n\u001B[0;32m--> 762\u001B[0m     \u001B[38;5;28;43mself\u001B[39;49m\u001B[38;5;241;43m.\u001B[39;49m\u001B[43m_event\u001B[49m\u001B[38;5;241;43m.\u001B[39;49m\u001B[43mwait\u001B[49m\u001B[43m(\u001B[49m\u001B[43mtimeout\u001B[49m\u001B[43m)\u001B[49m\n",
      "File \u001B[0;32m/usr/lib/python3.8/threading.py:558\u001B[0m, in \u001B[0;36mEvent.wait\u001B[0;34m(self, timeout)\u001B[0m\n\u001B[1;32m    556\u001B[0m signaled \u001B[38;5;241m=\u001B[39m \u001B[38;5;28mself\u001B[39m\u001B[38;5;241m.\u001B[39m_flag\n\u001B[1;32m    557\u001B[0m \u001B[38;5;28;01mif\u001B[39;00m \u001B[38;5;129;01mnot\u001B[39;00m signaled:\n\u001B[0;32m--> 558\u001B[0m     signaled \u001B[38;5;241m=\u001B[39m \u001B[38;5;28;43mself\u001B[39;49m\u001B[38;5;241;43m.\u001B[39;49m\u001B[43m_cond\u001B[49m\u001B[38;5;241;43m.\u001B[39;49m\u001B[43mwait\u001B[49m\u001B[43m(\u001B[49m\u001B[43mtimeout\u001B[49m\u001B[43m)\u001B[49m\n\u001B[1;32m    559\u001B[0m \u001B[38;5;28;01mreturn\u001B[39;00m signaled\n",
      "File \u001B[0;32m/usr/lib/python3.8/threading.py:302\u001B[0m, in \u001B[0;36mCondition.wait\u001B[0;34m(self, timeout)\u001B[0m\n\u001B[1;32m    300\u001B[0m \u001B[38;5;28;01mtry\u001B[39;00m:    \u001B[38;5;66;03m# restore state no matter what (e.g., KeyboardInterrupt)\u001B[39;00m\n\u001B[1;32m    301\u001B[0m     \u001B[38;5;28;01mif\u001B[39;00m timeout \u001B[38;5;129;01mis\u001B[39;00m \u001B[38;5;28;01mNone\u001B[39;00m:\n\u001B[0;32m--> 302\u001B[0m         \u001B[43mwaiter\u001B[49m\u001B[38;5;241;43m.\u001B[39;49m\u001B[43macquire\u001B[49m\u001B[43m(\u001B[49m\u001B[43m)\u001B[49m\n\u001B[1;32m    303\u001B[0m         gotit \u001B[38;5;241m=\u001B[39m \u001B[38;5;28;01mTrue\u001B[39;00m\n\u001B[1;32m    304\u001B[0m     \u001B[38;5;28;01melse\u001B[39;00m:\n",
      "\u001B[0;31mKeyboardInterrupt\u001B[0m: "
     ]
    },
    {
     "name": "stderr",
     "output_type": "stream",
     "text": [
      "Traceback (most recent call last):\n",
      "  File \"/usr/lib/python3.8/multiprocessing/process.py\", line 315, in _bootstrap\n",
      "    self.run()\n",
      "  File \"/usr/lib/python3.8/multiprocessing/process.py\", line 108, in run\n",
      "    self._target(*self._args, **self._kwargs)\n",
      "  File \"/usr/lib/python3.8/multiprocessing/pool.py\", line 125, in worker\n",
      "    result = (True, func(*args, **kwds))\n",
      "  File \"/usr/lib/python3.8/multiprocessing/pool.py\", line 51, in starmapstar\n",
      "    return list(itertools.starmap(args[0], args[1]))\n",
      "  File \"/home/pbilko/PycharmProjects/KeywordExtractor (1)/venv/lib/python3.8/site-packages/networkx/algorithms/centrality/betweenness_subset.py\", line 106, in betweenness_centrality_subset\n",
      "    S, P, sigma, _ = shortest_path(G, s)\n",
      "  File \"/home/pbilko/PycharmProjects/KeywordExtractor (1)/venv/lib/python3.8/site-packages/networkx/algorithms/centrality/betweenness.py\", line 260, in _single_source_shortest_path_basic\n",
      "    P[v] = []\n",
      "KeyboardInterrupt\n",
      "Process ForkPoolWorker-2:\n",
      "Traceback (most recent call last):\n",
      "  File \"/usr/lib/python3.8/multiprocessing/process.py\", line 315, in _bootstrap\n",
      "    self.run()\n"
     ]
    }
   ],
   "source": [
    "plot_centralities(g, 'Added road Galicyjska-Nowohucka')"
   ],
   "metadata": {
    "collapsed": false,
    "pycharm": {
     "name": "#%%\n"
    }
   }
  }
 ],
 "metadata": {
  "kernelspec": {
   "display_name": "Python 3",
   "language": "python",
   "name": "python3"
  },
  "language_info": {
   "codemirror_mode": {
    "name": "ipython",
    "version": 3
   },
   "file_extension": ".py",
   "mimetype": "text/x-python",
   "name": "python",
   "nbconvert_exporter": "python",
   "pygments_lexer": "ipython3",
   "version": "3.8.10"
  }
 },
 "nbformat": 4,
 "nbformat_minor": 0
}