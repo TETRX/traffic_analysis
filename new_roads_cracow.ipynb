{
 "cells": [
  {
   "cell_type": "code",
   "execution_count": 1,
   "metadata": {
    "pycharm": {
     "name": "#%%\n"
    }
   },
   "outputs": [],
   "source": [
    "import copy\n",
    "import os\n",
    "import random\n",
    "\n",
    "import osmnx as ox\n",
    "import networkx as nx\n",
    "from multiprocessing import Pool\n",
    "import itertools\n",
    "\n",
    "\n",
    "import matplotlib.pyplot as plt\n",
    "from typing import (\n",
    "    List,\n",
    "    Set,\n",
    "    Tuple,\n",
    ")\n",
    "\n",
    "# because jupyter is bad about changes in imported stuff\n",
    "try:\n",
    "    import importlib\n",
    "    import graph_edit_functions\n",
    "    import centrality_algorithms\n",
    "    import plot_functions\n",
    "    importlib.reload(graph_edit_functions)\n",
    "    importlib.reload(plot_functions)\n",
    "    importlib.reload(centrality_algorithms)\n",
    "except Exception as e:\n",
    "    print(e)\n",
    "\n",
    "from graph_edit_functions import *\n",
    "from centrality_algorithms import *\n",
    "from plot_functions import *"
   ]
  },
  {
   "cell_type": "markdown",
   "source": [
    "# New road: Galicyjska - Nowohucka\n",
    "\n",
    "![](cracow_galicyjska-nowohucka.png)"
   ],
   "metadata": {
    "collapsed": false,
    "pycharm": {
     "name": "#%% md\n"
    }
   }
  },
  {
   "cell_type": "code",
   "execution_count": 2,
   "outputs": [
    {
     "name": "stderr",
     "output_type": "stream",
     "text": [
      "/home/pbilko/PycharmProjects/KeywordExtractor (1)/venv/lib/python3.8/site-packages/osmnx/geocoder.py:110: FutureWarning: The frame.append method is deprecated and will be removed from pandas in a future version. Use pandas.concat instead.\n",
      "  gdf = gdf.append(_geocode_query_to_gdf(q, wr, by_osmid))\n"
     ]
    }
   ],
   "source": [
    "g, nodes, edges = get_graph_from_place('Kraków, Poland')\n",
    "\n",
    "unchanged_g = copy.deepcopy(g)\n",
    "unchanged_nodes = copy.deepcopy(nodes)\n",
    "unchanged_edges = copy.deepcopy(edges)"
   ],
   "metadata": {
    "collapsed": false,
    "pycharm": {
     "name": "#%%\n"
    }
   }
  },
  {
   "cell_type": "code",
   "execution_count": 3,
   "outputs": [
    {
     "data": {
      "text/plain": "{880303279}"
     },
     "execution_count": 3,
     "metadata": {},
     "output_type": "execute_result"
    }
   ],
   "source": [
    "get_crossroad_nodes(edges, 'Ciepłownicza', 'Plac Błonie')"
   ],
   "metadata": {
    "collapsed": false,
    "pycharm": {
     "name": "#%%\n"
    }
   }
  },
  {
   "cell_type": "code",
   "execution_count": 4,
   "outputs": [],
   "source": [
    "# relevant_nodes = relevant_edges.index.to_list()\n",
    "node1 = 880303279  # This is a slightly different point on Ciepłownicza st. as OSMNX seems to lose the Skręcona st. in translation - from OSMNX hacking, see above\n",
    "node2 = 3984101972  # End of Galicyjska st. - from OpenStreetMap.org\n",
    "\n",
    "add_edge(g, node1, node2)"
   ],
   "metadata": {
    "collapsed": false,
    "pycharm": {
     "name": "#%%\n"
    }
   }
  },
  {
   "cell_type": "code",
   "execution_count": null,
   "outputs": [],
   "source": [
    "plot_new_roads(g, [(node1, node2)], 'Added road Galicyjska-Nowohucka')"
   ],
   "metadata": {
    "collapsed": false,
    "pycharm": {
     "name": "#%%\n",
     "is_executing": true
    }
   }
  },
  {
   "cell_type": "markdown",
   "source": [
    "## Measuring centrality"
   ],
   "metadata": {
    "collapsed": false,
    "pycharm": {
     "name": "#%% md\n"
    }
   }
  },
  {
   "cell_type": "code",
   "execution_count": null,
   "outputs": [],
   "source": [
    "plot_centralities(g, 'Galicyjska-Nowohucka')"
   ],
   "metadata": {
    "collapsed": false,
    "pycharm": {
     "name": "#%%\n",
     "is_executing": true
    }
   }
  },
  {
   "cell_type": "code",
   "execution_count": 7,
   "outputs": [
    {
     "data": {
      "text/plain": "                  y          x  street_count highway  ref  \\\nosmid                                                       \n13822575  50.082051  20.032569             4     NaN  NaN   \n13822576  50.080684  20.034366             3     NaN  NaN   \n13822577  50.079388  20.036047             3     NaN  NaN   \n13822694  50.081361  20.035596             4     NaN  NaN   \n13823455  50.078919  20.039546             4     NaN  NaN   \n\n                           geometry  \nosmid                                \n13822575  POINT (20.03257 50.08205)  \n13822576  POINT (20.03437 50.08068)  \n13822577  POINT (20.03605 50.07939)  \n13822694  POINT (20.03560 50.08136)  \n13823455  POINT (20.03955 50.07892)  ",
      "text/html": "<div>\n<style scoped>\n    .dataframe tbody tr th:only-of-type {\n        vertical-align: middle;\n    }\n\n    .dataframe tbody tr th {\n        vertical-align: top;\n    }\n\n    .dataframe thead th {\n        text-align: right;\n    }\n</style>\n<table border=\"1\" class=\"dataframe\">\n  <thead>\n    <tr style=\"text-align: right;\">\n      <th></th>\n      <th>y</th>\n      <th>x</th>\n      <th>street_count</th>\n      <th>highway</th>\n      <th>ref</th>\n      <th>geometry</th>\n    </tr>\n    <tr>\n      <th>osmid</th>\n      <th></th>\n      <th></th>\n      <th></th>\n      <th></th>\n      <th></th>\n      <th></th>\n    </tr>\n  </thead>\n  <tbody>\n    <tr>\n      <th>13822575</th>\n      <td>50.082051</td>\n      <td>20.032569</td>\n      <td>4</td>\n      <td>NaN</td>\n      <td>NaN</td>\n      <td>POINT (20.03257 50.08205)</td>\n    </tr>\n    <tr>\n      <th>13822576</th>\n      <td>50.080684</td>\n      <td>20.034366</td>\n      <td>3</td>\n      <td>NaN</td>\n      <td>NaN</td>\n      <td>POINT (20.03437 50.08068)</td>\n    </tr>\n    <tr>\n      <th>13822577</th>\n      <td>50.079388</td>\n      <td>20.036047</td>\n      <td>3</td>\n      <td>NaN</td>\n      <td>NaN</td>\n      <td>POINT (20.03605 50.07939)</td>\n    </tr>\n    <tr>\n      <th>13822694</th>\n      <td>50.081361</td>\n      <td>20.035596</td>\n      <td>4</td>\n      <td>NaN</td>\n      <td>NaN</td>\n      <td>POINT (20.03560 50.08136)</td>\n    </tr>\n    <tr>\n      <th>13823455</th>\n      <td>50.078919</td>\n      <td>20.039546</td>\n      <td>4</td>\n      <td>NaN</td>\n      <td>NaN</td>\n      <td>POINT (20.03955 50.07892)</td>\n    </tr>\n  </tbody>\n</table>\n</div>"
     },
     "execution_count": 7,
     "metadata": {},
     "output_type": "execute_result"
    }
   ],
   "source": [
    "nodes.head()"
   ],
   "metadata": {
    "collapsed": false,
    "pycharm": {
     "name": "#%%\n"
    }
   }
  },
  {
   "cell_type": "markdown",
   "source": [
    "# Remove road - Pleszowska - Opolska"
   ],
   "metadata": {
    "collapsed": false,
    "pycharm": {
     "name": "#%% md\n"
    }
   }
  },
  {
   "cell_type": "code",
   "execution_count": 6,
   "outputs": [
    {
     "name": "stderr",
     "output_type": "stream",
     "text": [
      "/home/pbilko/PycharmProjects/KeywordExtractor (1)/venv/lib/python3.8/site-packages/osmnx/geocoder.py:110: FutureWarning: The frame.append method is deprecated and will be removed from pandas in a future version. Use pandas.concat instead.\n",
      "  gdf = gdf.append(_geocode_query_to_gdf(q, wr, by_osmid))\n"
     ]
    }
   ],
   "source": [
    "g, nodes, edges = get_graph_from_place('Kraków, Poland')"
   ],
   "metadata": {
    "collapsed": false,
    "pycharm": {
     "name": "#%%\n"
    }
   }
  },
  {
   "cell_type": "code",
   "execution_count": 36,
   "outputs": [
    {
     "data": {
      "text/plain": "{236219654}"
     },
     "execution_count": 36,
     "metadata": {},
     "output_type": "execute_result"
    }
   ],
   "source": [
    "get_crossroad_nodes(edges, 'Pleszowska', 'Opolska')"
   ],
   "metadata": {
    "collapsed": false,
    "pycharm": {
     "name": "#%%\n"
    }
   }
  },
  {
   "cell_type": "code",
   "execution_count": 37,
   "outputs": [
    {
     "data": {
      "text/plain": "                                                                       osmid  \\\nu          v          key                                                      \n227461830  269656158  0                    [218413441, 157868826, 218413442]   \n236175129  1439394080 0           [21920248, 21920252, 218415900, 218415895]   \n236175465  236179800  0           [29318144, 151477745, 21920953, 714451983]   \n236175947  322918724  0           [29318152, 29318400, 218331577, 153148687]   \n236179800  243778578  0                               [151477741, 218323990]   \n236184355  1669421079 0                               [424436563, 218414142]   \n236184999  32063393   0                                [218324012, 24393911]   \n236219654  4945459905 0          [348547918, 848316571, 21920782, 887454854]   \n           8251098828 0                                            218332713   \n243778577  236175947  0    [218323987, 218331028, 218323989, 157868823, 1...   \n243778578  236184999  0                    [218323996, 373647445, 925865383]   \n264756248  264756251  0          [85105737, 552844882, 218324005, 218324009]   \n264756251  243778577  0                     [27090960, 218323984, 218323992]   \n267031756  4945459905 0                               [157868817, 988264693]   \n269656158  236184355  0                    [157868819, 218414140, 218414141]   \n269656160  267031756  0                               [365729304, 331122571]   \n316696431  264756248  0                                            162790323   \n322918724  8251098828 0                               [153148688, 887454852]   \n1439394080 269656160  0    [218415904, 829698592, 218413443, 714458122, 7...   \n1669421079 3151753546 0    [714458121, 424436563, 21920244, 21920245, 218...   \n4945459905 236219654  0          [887454854, 848316571, 348547918, 21920782]   \n           227461830  0                               [218334921, 914340908]   \n8251098828 236219654  0                                            218332713   \n           236175465  0                    [923959544, 218331576, 923959543]   \n\n                           oneway      lanes   ref     name       highway  \\\nu          v          key                                                   \n227461830  269656158  0      True  [4, 5, 3]  7;79  Opolska       primary   \n236175129  1439394080 0      True          3  7;79  Opolska       primary   \n236175465  236179800  0      True     [4, 3]  7;79  Opolska       primary   \n236175947  322918724  0      True     [4, 3]  7;79  Opolska       primary   \n236179800  243778578  0      True     [4, 3]  7;79  Opolska       primary   \n236184355  1669421079 0      True          3  7;79  Opolska       primary   \n236184999  32063393   0      True     [2, 3]     7  Opolska  primary_link   \n236219654  4945459905 0     False          3  7;79  Opolska       primary   \n           8251098828 0     False          3  7;79  Opolska       primary   \n243778577  236175947  0      True     [4, 3]  7;79  Opolska       primary   \n243778578  236184999  0      True          3  7;79  Opolska       primary   \n264756248  264756251  0      True  [1, 2, 3]     7  Opolska  primary_link   \n264756251  243778577  0      True     [4, 3]  7;79  Opolska       primary   \n267031756  4945459905 0      True          3  7;79  Opolska       primary   \n269656158  236184355  0      True     [4, 3]  7;79  Opolska       primary   \n269656160  267031756  0      True     [4, 3]  7;79  Opolska       primary   \n316696431  264756248  0      True          3   NaN  Opolska  primary_link   \n322918724  8251098828 0      True          3  7;79  Opolska       primary   \n1439394080 269656160  0      True  [4, 5, 3]  7;79  Opolska       primary   \n1669421079 3151753546 0      True          3  7;79  Opolska       primary   \n4945459905 236219654  0     False          3  7;79  Opolska       primary   \n           227461830  0      True     [4, 3]  7;79  Opolska       primary   \n8251098828 236219654  0     False          3  7;79  Opolska       primary   \n           236175465  0      True          3  7;79  Opolska       primary   \n\n                           maxspeed   length  \\\nu          v          key                      \n227461830  269656158  0          70  279.894   \n236175129  1439394080 0          70  307.008   \n236175465  236179800  0          50  319.800   \n236175947  322918724  0    [70, 50]  327.477   \n236179800  243778578  0          50  381.999   \n236184355  1669421079 0          70   32.860   \n236184999  32063393   0          50  243.252   \n236219654  4945459905 0    [70, 50]  626.566   \n           8251098828 0          70   52.296   \n243778577  236175947  0          70  379.626   \n243778578  236184999  0    [70, 50]  288.434   \n264756248  264756251  0          70  276.544   \n264756251  243778577  0          70  258.583   \n267031756  4945459905 0          70  286.494   \n269656158  236184355  0          70  399.852   \n269656160  267031756  0    [70, 50]  276.438   \n316696431  264756248  0          50   15.250   \n322918724  8251098828 0          70  239.124   \n1439394080 269656160  0          70  443.517   \n1669421079 3151753546 0          70  258.151   \n4945459905 236219654  0    [70, 50]  626.566   \n           227461830  0          70  285.579   \n8251098828 236219654  0          70   52.296   \n           236175465  0          50  244.701   \n\n                                                                    geometry  \\\nu          v          key                                                      \n227461830  269656158  0    LINESTRING (19.92284 50.09110, 19.92181 50.090...   \n236175129  1439394080 0    LINESTRING (19.90887 50.08943, 19.90961 50.089...   \n236175465  236179800  0    LINESTRING (19.93952 50.09134, 19.93979 50.091...   \n236175947  322918724  0    LINESTRING (19.94355 50.09012, 19.94329 50.090...   \n236179800  243778578  0    LINESTRING (19.94341 50.09000, 19.94361 50.089...   \n236184355  1669421079 0    LINESTRING (19.91366 50.08952, 19.91342 50.089...   \n236184999  32063393   0    LINESTRING (19.95127 50.08678, 19.95191 50.086...   \n236219654  4945459905 0    LINESTRING (19.93551 50.09185, 19.93507 50.091...   \n           8251098828 0    LINESTRING (19.93551 50.09185, 19.93615 50.091...   \n243778577  236175947  0    LINESTRING (19.94773 50.08801, 19.94721 50.088...   \n243778578  236184999  0    LINESTRING (19.94760 50.08786, 19.94781 50.087...   \n264756248  264756251  0    LINESTRING (19.95471 50.08630, 19.95449 50.086...   \n264756251  243778577  0    LINESTRING (19.95101 50.08702, 19.94952 50.087...   \n267031756  4945459905 0    LINESTRING (19.92291 50.09094, 19.92316 50.090...   \n269656158  236184355  0    LINESTRING (19.91902 50.09054, 19.91871 50.090...   \n269656160  267031756  0    LINESTRING (19.91913 50.09039, 19.92097 50.090...   \n316696431  264756248  0    LINESTRING (19.95490 50.08624, 19.95471 50.08630)   \n322918724  8251098828 0    LINESTRING (19.93956 50.09150, 19.93928 50.091...   \n1439394080 269656160  0    LINESTRING (19.91317 50.08932, 19.91332 50.089...   \n1669421079 3151753546 0    LINESTRING (19.91320 50.08951, 19.91263 50.089...   \n4945459905 236219654  0    LINESTRING (19.92679 50.09149, 19.92714 50.091...   \n           227461830  0    LINESTRING (19.92679 50.09149, 19.92638 50.091...   \n8251098828 236219654  0    LINESTRING (19.93625 50.09182, 19.93615 50.091...   \n           236175465  0    LINESTRING (19.93625 50.09182, 19.93648 50.091...   \n\n                          tunnel junction width   bridge access est_width  \\\nu          v          key                                                   \n227461830  269656158  0      NaN      NaN   NaN      NaN    NaN       NaN   \n236175129  1439394080 0      NaN      NaN   NaN  viaduct    NaN       NaN   \n236175465  236179800  0      NaN      NaN   NaN      NaN    NaN       NaN   \n236175947  322918724  0      NaN      NaN   NaN      NaN    NaN       NaN   \n236179800  243778578  0      NaN      NaN   NaN      NaN    NaN       NaN   \n236184355  1669421079 0      NaN      NaN   NaN      NaN    NaN       NaN   \n236184999  32063393   0      NaN      NaN   NaN      NaN    NaN       NaN   \n236219654  4945459905 0      NaN      NaN   NaN      NaN    NaN       NaN   \n           8251098828 0      NaN      NaN   NaN      NaN    NaN       NaN   \n243778577  236175947  0      NaN      NaN   NaN      NaN    NaN       NaN   \n243778578  236184999  0      NaN      NaN   NaN      NaN    NaN       NaN   \n264756248  264756251  0      NaN      NaN   NaN      NaN    NaN       NaN   \n264756251  243778577  0      NaN      NaN   NaN      NaN    NaN       NaN   \n267031756  4945459905 0      NaN      NaN   NaN      NaN    NaN       NaN   \n269656158  236184355  0      NaN      NaN   NaN      NaN    NaN       NaN   \n269656160  267031756  0      NaN      NaN   NaN      NaN    NaN       NaN   \n316696431  264756248  0      NaN      NaN   NaN      NaN    NaN       NaN   \n322918724  8251098828 0      NaN      NaN   NaN      NaN    NaN       NaN   \n1439394080 269656160  0      NaN      NaN   NaN      NaN    NaN       NaN   \n1669421079 3151753546 0      NaN      NaN   NaN  viaduct    NaN       NaN   \n4945459905 236219654  0      NaN      NaN   NaN      NaN    NaN       NaN   \n           227461830  0      NaN      NaN   NaN      NaN    NaN       NaN   \n8251098828 236219654  0      NaN      NaN   NaN      NaN    NaN       NaN   \n           236175465  0      NaN      NaN   NaN      NaN    NaN       NaN   \n\n                          service  \nu          v          key          \n227461830  269656158  0       NaN  \n236175129  1439394080 0       NaN  \n236175465  236179800  0       NaN  \n236175947  322918724  0       NaN  \n236179800  243778578  0       NaN  \n236184355  1669421079 0       NaN  \n236184999  32063393   0       NaN  \n236219654  4945459905 0       NaN  \n           8251098828 0       NaN  \n243778577  236175947  0       NaN  \n243778578  236184999  0       NaN  \n264756248  264756251  0       NaN  \n264756251  243778577  0       NaN  \n267031756  4945459905 0       NaN  \n269656158  236184355  0       NaN  \n269656160  267031756  0       NaN  \n316696431  264756248  0       NaN  \n322918724  8251098828 0       NaN  \n1439394080 269656160  0       NaN  \n1669421079 3151753546 0       NaN  \n4945459905 236219654  0       NaN  \n           227461830  0       NaN  \n8251098828 236219654  0       NaN  \n           236175465  0       NaN  ",
      "text/html": "<div>\n<style scoped>\n    .dataframe tbody tr th:only-of-type {\n        vertical-align: middle;\n    }\n\n    .dataframe tbody tr th {\n        vertical-align: top;\n    }\n\n    .dataframe thead th {\n        text-align: right;\n    }\n</style>\n<table border=\"1\" class=\"dataframe\">\n  <thead>\n    <tr style=\"text-align: right;\">\n      <th></th>\n      <th></th>\n      <th></th>\n      <th>osmid</th>\n      <th>oneway</th>\n      <th>lanes</th>\n      <th>ref</th>\n      <th>name</th>\n      <th>highway</th>\n      <th>maxspeed</th>\n      <th>length</th>\n      <th>geometry</th>\n      <th>tunnel</th>\n      <th>junction</th>\n      <th>width</th>\n      <th>bridge</th>\n      <th>access</th>\n      <th>est_width</th>\n      <th>service</th>\n    </tr>\n    <tr>\n      <th>u</th>\n      <th>v</th>\n      <th>key</th>\n      <th></th>\n      <th></th>\n      <th></th>\n      <th></th>\n      <th></th>\n      <th></th>\n      <th></th>\n      <th></th>\n      <th></th>\n      <th></th>\n      <th></th>\n      <th></th>\n      <th></th>\n      <th></th>\n      <th></th>\n      <th></th>\n    </tr>\n  </thead>\n  <tbody>\n    <tr>\n      <th>227461830</th>\n      <th>269656158</th>\n      <th>0</th>\n      <td>[218413441, 157868826, 218413442]</td>\n      <td>True</td>\n      <td>[4, 5, 3]</td>\n      <td>7;79</td>\n      <td>Opolska</td>\n      <td>primary</td>\n      <td>70</td>\n      <td>279.894</td>\n      <td>LINESTRING (19.92284 50.09110, 19.92181 50.090...</td>\n      <td>NaN</td>\n      <td>NaN</td>\n      <td>NaN</td>\n      <td>NaN</td>\n      <td>NaN</td>\n      <td>NaN</td>\n      <td>NaN</td>\n    </tr>\n    <tr>\n      <th>236175129</th>\n      <th>1439394080</th>\n      <th>0</th>\n      <td>[21920248, 21920252, 218415900, 218415895]</td>\n      <td>True</td>\n      <td>3</td>\n      <td>7;79</td>\n      <td>Opolska</td>\n      <td>primary</td>\n      <td>70</td>\n      <td>307.008</td>\n      <td>LINESTRING (19.90887 50.08943, 19.90961 50.089...</td>\n      <td>NaN</td>\n      <td>NaN</td>\n      <td>NaN</td>\n      <td>viaduct</td>\n      <td>NaN</td>\n      <td>NaN</td>\n      <td>NaN</td>\n    </tr>\n    <tr>\n      <th>236175465</th>\n      <th>236179800</th>\n      <th>0</th>\n      <td>[29318144, 151477745, 21920953, 714451983]</td>\n      <td>True</td>\n      <td>[4, 3]</td>\n      <td>7;79</td>\n      <td>Opolska</td>\n      <td>primary</td>\n      <td>50</td>\n      <td>319.800</td>\n      <td>LINESTRING (19.93952 50.09134, 19.93979 50.091...</td>\n      <td>NaN</td>\n      <td>NaN</td>\n      <td>NaN</td>\n      <td>NaN</td>\n      <td>NaN</td>\n      <td>NaN</td>\n      <td>NaN</td>\n    </tr>\n    <tr>\n      <th>236175947</th>\n      <th>322918724</th>\n      <th>0</th>\n      <td>[29318152, 29318400, 218331577, 153148687]</td>\n      <td>True</td>\n      <td>[4, 3]</td>\n      <td>7;79</td>\n      <td>Opolska</td>\n      <td>primary</td>\n      <td>[70, 50]</td>\n      <td>327.477</td>\n      <td>LINESTRING (19.94355 50.09012, 19.94329 50.090...</td>\n      <td>NaN</td>\n      <td>NaN</td>\n      <td>NaN</td>\n      <td>NaN</td>\n      <td>NaN</td>\n      <td>NaN</td>\n      <td>NaN</td>\n    </tr>\n    <tr>\n      <th>236179800</th>\n      <th>243778578</th>\n      <th>0</th>\n      <td>[151477741, 218323990]</td>\n      <td>True</td>\n      <td>[4, 3]</td>\n      <td>7;79</td>\n      <td>Opolska</td>\n      <td>primary</td>\n      <td>50</td>\n      <td>381.999</td>\n      <td>LINESTRING (19.94341 50.09000, 19.94361 50.089...</td>\n      <td>NaN</td>\n      <td>NaN</td>\n      <td>NaN</td>\n      <td>NaN</td>\n      <td>NaN</td>\n      <td>NaN</td>\n      <td>NaN</td>\n    </tr>\n    <tr>\n      <th>236184355</th>\n      <th>1669421079</th>\n      <th>0</th>\n      <td>[424436563, 218414142]</td>\n      <td>True</td>\n      <td>3</td>\n      <td>7;79</td>\n      <td>Opolska</td>\n      <td>primary</td>\n      <td>70</td>\n      <td>32.860</td>\n      <td>LINESTRING (19.91366 50.08952, 19.91342 50.089...</td>\n      <td>NaN</td>\n      <td>NaN</td>\n      <td>NaN</td>\n      <td>NaN</td>\n      <td>NaN</td>\n      <td>NaN</td>\n      <td>NaN</td>\n    </tr>\n    <tr>\n      <th>236184999</th>\n      <th>32063393</th>\n      <th>0</th>\n      <td>[218324012, 24393911]</td>\n      <td>True</td>\n      <td>[2, 3]</td>\n      <td>7</td>\n      <td>Opolska</td>\n      <td>primary_link</td>\n      <td>50</td>\n      <td>243.252</td>\n      <td>LINESTRING (19.95127 50.08678, 19.95191 50.086...</td>\n      <td>NaN</td>\n      <td>NaN</td>\n      <td>NaN</td>\n      <td>NaN</td>\n      <td>NaN</td>\n      <td>NaN</td>\n      <td>NaN</td>\n    </tr>\n    <tr>\n      <th rowspan=\"2\" valign=\"top\">236219654</th>\n      <th>4945459905</th>\n      <th>0</th>\n      <td>[348547918, 848316571, 21920782, 887454854]</td>\n      <td>False</td>\n      <td>3</td>\n      <td>7;79</td>\n      <td>Opolska</td>\n      <td>primary</td>\n      <td>[70, 50]</td>\n      <td>626.566</td>\n      <td>LINESTRING (19.93551 50.09185, 19.93507 50.091...</td>\n      <td>NaN</td>\n      <td>NaN</td>\n      <td>NaN</td>\n      <td>NaN</td>\n      <td>NaN</td>\n      <td>NaN</td>\n      <td>NaN</td>\n    </tr>\n    <tr>\n      <th>8251098828</th>\n      <th>0</th>\n      <td>218332713</td>\n      <td>False</td>\n      <td>3</td>\n      <td>7;79</td>\n      <td>Opolska</td>\n      <td>primary</td>\n      <td>70</td>\n      <td>52.296</td>\n      <td>LINESTRING (19.93551 50.09185, 19.93615 50.091...</td>\n      <td>NaN</td>\n      <td>NaN</td>\n      <td>NaN</td>\n      <td>NaN</td>\n      <td>NaN</td>\n      <td>NaN</td>\n      <td>NaN</td>\n    </tr>\n    <tr>\n      <th>243778577</th>\n      <th>236175947</th>\n      <th>0</th>\n      <td>[218323987, 218331028, 218323989, 157868823, 1...</td>\n      <td>True</td>\n      <td>[4, 3]</td>\n      <td>7;79</td>\n      <td>Opolska</td>\n      <td>primary</td>\n      <td>70</td>\n      <td>379.626</td>\n      <td>LINESTRING (19.94773 50.08801, 19.94721 50.088...</td>\n      <td>NaN</td>\n      <td>NaN</td>\n      <td>NaN</td>\n      <td>NaN</td>\n      <td>NaN</td>\n      <td>NaN</td>\n      <td>NaN</td>\n    </tr>\n    <tr>\n      <th>243778578</th>\n      <th>236184999</th>\n      <th>0</th>\n      <td>[218323996, 373647445, 925865383]</td>\n      <td>True</td>\n      <td>3</td>\n      <td>7;79</td>\n      <td>Opolska</td>\n      <td>primary</td>\n      <td>[70, 50]</td>\n      <td>288.434</td>\n      <td>LINESTRING (19.94760 50.08786, 19.94781 50.087...</td>\n      <td>NaN</td>\n      <td>NaN</td>\n      <td>NaN</td>\n      <td>NaN</td>\n      <td>NaN</td>\n      <td>NaN</td>\n      <td>NaN</td>\n    </tr>\n    <tr>\n      <th>264756248</th>\n      <th>264756251</th>\n      <th>0</th>\n      <td>[85105737, 552844882, 218324005, 218324009]</td>\n      <td>True</td>\n      <td>[1, 2, 3]</td>\n      <td>7</td>\n      <td>Opolska</td>\n      <td>primary_link</td>\n      <td>70</td>\n      <td>276.544</td>\n      <td>LINESTRING (19.95471 50.08630, 19.95449 50.086...</td>\n      <td>NaN</td>\n      <td>NaN</td>\n      <td>NaN</td>\n      <td>NaN</td>\n      <td>NaN</td>\n      <td>NaN</td>\n      <td>NaN</td>\n    </tr>\n    <tr>\n      <th>264756251</th>\n      <th>243778577</th>\n      <th>0</th>\n      <td>[27090960, 218323984, 218323992]</td>\n      <td>True</td>\n      <td>[4, 3]</td>\n      <td>7;79</td>\n      <td>Opolska</td>\n      <td>primary</td>\n      <td>70</td>\n      <td>258.583</td>\n      <td>LINESTRING (19.95101 50.08702, 19.94952 50.087...</td>\n      <td>NaN</td>\n      <td>NaN</td>\n      <td>NaN</td>\n      <td>NaN</td>\n      <td>NaN</td>\n      <td>NaN</td>\n      <td>NaN</td>\n    </tr>\n    <tr>\n      <th>267031756</th>\n      <th>4945459905</th>\n      <th>0</th>\n      <td>[157868817, 988264693]</td>\n      <td>True</td>\n      <td>3</td>\n      <td>7;79</td>\n      <td>Opolska</td>\n      <td>primary</td>\n      <td>70</td>\n      <td>286.494</td>\n      <td>LINESTRING (19.92291 50.09094, 19.92316 50.090...</td>\n      <td>NaN</td>\n      <td>NaN</td>\n      <td>NaN</td>\n      <td>NaN</td>\n      <td>NaN</td>\n      <td>NaN</td>\n      <td>NaN</td>\n    </tr>\n    <tr>\n      <th>269656158</th>\n      <th>236184355</th>\n      <th>0</th>\n      <td>[157868819, 218414140, 218414141]</td>\n      <td>True</td>\n      <td>[4, 3]</td>\n      <td>7;79</td>\n      <td>Opolska</td>\n      <td>primary</td>\n      <td>70</td>\n      <td>399.852</td>\n      <td>LINESTRING (19.91902 50.09054, 19.91871 50.090...</td>\n      <td>NaN</td>\n      <td>NaN</td>\n      <td>NaN</td>\n      <td>NaN</td>\n      <td>NaN</td>\n      <td>NaN</td>\n      <td>NaN</td>\n    </tr>\n    <tr>\n      <th>269656160</th>\n      <th>267031756</th>\n      <th>0</th>\n      <td>[365729304, 331122571]</td>\n      <td>True</td>\n      <td>[4, 3]</td>\n      <td>7;79</td>\n      <td>Opolska</td>\n      <td>primary</td>\n      <td>[70, 50]</td>\n      <td>276.438</td>\n      <td>LINESTRING (19.91913 50.09039, 19.92097 50.090...</td>\n      <td>NaN</td>\n      <td>NaN</td>\n      <td>NaN</td>\n      <td>NaN</td>\n      <td>NaN</td>\n      <td>NaN</td>\n      <td>NaN</td>\n    </tr>\n    <tr>\n      <th>316696431</th>\n      <th>264756248</th>\n      <th>0</th>\n      <td>162790323</td>\n      <td>True</td>\n      <td>3</td>\n      <td>NaN</td>\n      <td>Opolska</td>\n      <td>primary_link</td>\n      <td>50</td>\n      <td>15.250</td>\n      <td>LINESTRING (19.95490 50.08624, 19.95471 50.08630)</td>\n      <td>NaN</td>\n      <td>NaN</td>\n      <td>NaN</td>\n      <td>NaN</td>\n      <td>NaN</td>\n      <td>NaN</td>\n      <td>NaN</td>\n    </tr>\n    <tr>\n      <th>322918724</th>\n      <th>8251098828</th>\n      <th>0</th>\n      <td>[153148688, 887454852]</td>\n      <td>True</td>\n      <td>3</td>\n      <td>7;79</td>\n      <td>Opolska</td>\n      <td>primary</td>\n      <td>70</td>\n      <td>239.124</td>\n      <td>LINESTRING (19.93956 50.09150, 19.93928 50.091...</td>\n      <td>NaN</td>\n      <td>NaN</td>\n      <td>NaN</td>\n      <td>NaN</td>\n      <td>NaN</td>\n      <td>NaN</td>\n      <td>NaN</td>\n    </tr>\n    <tr>\n      <th>1439394080</th>\n      <th>269656160</th>\n      <th>0</th>\n      <td>[218415904, 829698592, 218413443, 714458122, 7...</td>\n      <td>True</td>\n      <td>[4, 5, 3]</td>\n      <td>7;79</td>\n      <td>Opolska</td>\n      <td>primary</td>\n      <td>70</td>\n      <td>443.517</td>\n      <td>LINESTRING (19.91317 50.08932, 19.91332 50.089...</td>\n      <td>NaN</td>\n      <td>NaN</td>\n      <td>NaN</td>\n      <td>NaN</td>\n      <td>NaN</td>\n      <td>NaN</td>\n      <td>NaN</td>\n    </tr>\n    <tr>\n      <th>1669421079</th>\n      <th>3151753546</th>\n      <th>0</th>\n      <td>[714458121, 424436563, 21920244, 21920245, 218...</td>\n      <td>True</td>\n      <td>3</td>\n      <td>7;79</td>\n      <td>Opolska</td>\n      <td>primary</td>\n      <td>70</td>\n      <td>258.151</td>\n      <td>LINESTRING (19.91320 50.08951, 19.91263 50.089...</td>\n      <td>NaN</td>\n      <td>NaN</td>\n      <td>NaN</td>\n      <td>viaduct</td>\n      <td>NaN</td>\n      <td>NaN</td>\n      <td>NaN</td>\n    </tr>\n    <tr>\n      <th rowspan=\"2\" valign=\"top\">4945459905</th>\n      <th>236219654</th>\n      <th>0</th>\n      <td>[887454854, 848316571, 348547918, 21920782]</td>\n      <td>False</td>\n      <td>3</td>\n      <td>7;79</td>\n      <td>Opolska</td>\n      <td>primary</td>\n      <td>[70, 50]</td>\n      <td>626.566</td>\n      <td>LINESTRING (19.92679 50.09149, 19.92714 50.091...</td>\n      <td>NaN</td>\n      <td>NaN</td>\n      <td>NaN</td>\n      <td>NaN</td>\n      <td>NaN</td>\n      <td>NaN</td>\n      <td>NaN</td>\n    </tr>\n    <tr>\n      <th>227461830</th>\n      <th>0</th>\n      <td>[218334921, 914340908]</td>\n      <td>True</td>\n      <td>[4, 3]</td>\n      <td>7;79</td>\n      <td>Opolska</td>\n      <td>primary</td>\n      <td>70</td>\n      <td>285.579</td>\n      <td>LINESTRING (19.92679 50.09149, 19.92638 50.091...</td>\n      <td>NaN</td>\n      <td>NaN</td>\n      <td>NaN</td>\n      <td>NaN</td>\n      <td>NaN</td>\n      <td>NaN</td>\n      <td>NaN</td>\n    </tr>\n    <tr>\n      <th rowspan=\"2\" valign=\"top\">8251098828</th>\n      <th>236219654</th>\n      <th>0</th>\n      <td>218332713</td>\n      <td>False</td>\n      <td>3</td>\n      <td>7;79</td>\n      <td>Opolska</td>\n      <td>primary</td>\n      <td>70</td>\n      <td>52.296</td>\n      <td>LINESTRING (19.93625 50.09182, 19.93615 50.091...</td>\n      <td>NaN</td>\n      <td>NaN</td>\n      <td>NaN</td>\n      <td>NaN</td>\n      <td>NaN</td>\n      <td>NaN</td>\n      <td>NaN</td>\n    </tr>\n    <tr>\n      <th>236175465</th>\n      <th>0</th>\n      <td>[923959544, 218331576, 923959543]</td>\n      <td>True</td>\n      <td>3</td>\n      <td>7;79</td>\n      <td>Opolska</td>\n      <td>primary</td>\n      <td>50</td>\n      <td>244.701</td>\n      <td>LINESTRING (19.93625 50.09182, 19.93648 50.091...</td>\n      <td>NaN</td>\n      <td>NaN</td>\n      <td>NaN</td>\n      <td>NaN</td>\n      <td>NaN</td>\n      <td>NaN</td>\n      <td>NaN</td>\n    </tr>\n  </tbody>\n</table>\n</div>"
     },
     "execution_count": 37,
     "metadata": {},
     "output_type": "execute_result"
    }
   ],
   "source": [
    "edges[edges['name'].str.contains('Opolska').fillna(False)]"
   ],
   "metadata": {
    "collapsed": false,
    "pycharm": {
     "name": "#%%\n"
    }
   }
  },
  {
   "cell_type": "code",
   "execution_count": 7,
   "outputs": [],
   "source": [
    "node1 = 236219654  # End of Pleszowska st.\n",
    "node2 = 4945459905\n",
    "\n",
    "remove_edge(g, node1, node2)"
   ],
   "metadata": {
    "collapsed": false,
    "pycharm": {
     "name": "#%%\n"
    }
   }
  },
  {
   "cell_type": "code",
   "execution_count": null,
   "outputs": [],
   "source": [
    "plot_new_roads(g, special_edges=[(node1, node2)], plot_title='Removed road Pleszowska-Opolska')"
   ],
   "metadata": {
    "collapsed": false,
    "pycharm": {
     "name": "#%%\n",
     "is_executing": true
    }
   }
  },
  {
   "cell_type": "code",
   "execution_count": null,
   "outputs": [],
   "source": [
    "plot_centralities(g, title='Pleszowska-Opolska')"
   ],
   "metadata": {
    "collapsed": false,
    "pycharm": {
     "name": "#%%\n",
     "is_executing": true
    }
   }
  },
  {
   "cell_type": "markdown",
   "source": [
    "# Remove road - Three Bards Avenue"
   ],
   "metadata": {
    "collapsed": false,
    "pycharm": {
     "name": "#%% md\n"
    }
   },
   "execution_count": 40
  },
  {
   "cell_type": "code",
   "execution_count": 2,
   "outputs": [
    {
     "name": "stderr",
     "output_type": "stream",
     "text": [
      "/home/pbilko/PycharmProjects/KeywordExtractor (1)/venv/lib/python3.8/site-packages/osmnx/geocoder.py:110: FutureWarning: The frame.append method is deprecated and will be removed from pandas in a future version. Use pandas.concat instead.\n",
      "  gdf = gdf.append(_geocode_query_to_gdf(q, wr, by_osmid))\n"
     ]
    }
   ],
   "source": [
    "g, nodes, edges = get_graph_from_place('Kraków, Poland')"
   ],
   "metadata": {
    "collapsed": false,
    "pycharm": {
     "name": "#%%\n"
    }
   }
  },
  {
   "cell_type": "code",
   "execution_count": 3,
   "outputs": [],
   "source": [
    "three_bards_removed_roads = []\n",
    "for street_name in ('Słowackiego', 'Mickiewicza', 'Krasińskiego'):\n",
    "    removed_roads = remove_street(g, edges, street_name)\n",
    "    three_bards_removed_roads += removed_roads"
   ],
   "metadata": {
    "collapsed": false,
    "pycharm": {
     "name": "#%%\n"
    }
   }
  },
  {
   "cell_type": "code",
   "execution_count": null,
   "outputs": [],
   "source": [
    "plot_new_roads(g, three_bards_removed_roads, 'Removed road Three Bards Avenue')"
   ],
   "metadata": {
    "collapsed": false,
    "pycharm": {
     "name": "#%%\n",
     "is_executing": true
    }
   }
  },
  {
   "cell_type": "code",
   "execution_count": null,
   "outputs": [],
   "source": [
    "plot_centralities(g, 'Three Bards Avenue')"
   ],
   "metadata": {
    "collapsed": false,
    "pycharm": {
     "name": "#%%\n",
     "is_executing": true
    }
   }
  },
  {
   "cell_type": "markdown",
   "source": [
    "# Rearrange Cracow - remove all most central roads"
   ],
   "metadata": {
    "collapsed": false,
    "pycharm": {
     "name": "#%% md\n"
    }
   }
  },
  {
   "cell_type": "code",
   "execution_count": 3,
   "outputs": [
    {
     "name": "stderr",
     "output_type": "stream",
     "text": [
      "/home/pbilko/PycharmProjects/KeywordExtractor (1)/venv/lib/python3.8/site-packages/osmnx/geocoder.py:110: FutureWarning: The frame.append method is deprecated and will be removed from pandas in a future version. Use pandas.concat instead.\n",
      "  gdf = gdf.append(_geocode_query_to_gdf(q, wr, by_osmid))\n"
     ]
    }
   ],
   "source": [
    "g, nodes, edges = get_graph_from_place('Kraków, Poland')"
   ],
   "metadata": {
    "collapsed": false,
    "pycharm": {
     "name": "#%%\n"
    }
   }
  },
  {
   "cell_type": "code",
   "execution_count": 4,
   "outputs": [],
   "source": [
    "most_central_removed_roads = []\n",
    "for street_name in ('Słowackiego', 'Mickiewicza', 'Krasińskiego', 'S7', 'Wadowicka', '29 Listopada', 'Opolska', 'Lublańska', 'Bora-Komorowskiego', 'Stella-Sawickiego', 'Okulickiego', 'Łowińskiego', 'Nowohucka', 'Powstańców Wielkopolskich', 'Powstańców Śląskich', 'Konopnickiej', 'Dębnicki', 'Turowicza', 'Herberta'):\n",
    "    removed_roads = remove_street(g, edges, street_name)\n",
    "    most_central_removed_roads += removed_roads"
   ],
   "metadata": {
    "collapsed": false,
    "pycharm": {
     "name": "#%%\n"
    }
   }
  },
  {
   "cell_type": "code",
   "execution_count": null,
   "outputs": [],
   "source": [
    "plot_new_roads(g, most_central_removed_roads, 'Removed road Most Central')"
   ],
   "metadata": {
    "collapsed": false,
    "pycharm": {
     "name": "#%%\n",
     "is_executing": true
    }
   }
  },
  {
   "cell_type": "code",
   "execution_count": null,
   "outputs": [],
   "source": [
    "plot_centralities(g, 'Most Central')"
   ],
   "metadata": {
    "collapsed": false,
    "pycharm": {
     "name": "#%%\n",
     "is_executing": true
    }
   }
  },
  {
   "cell_type": "markdown",
   "source": [
    "# Unchanged graph comparisons"
   ],
   "metadata": {
    "collapsed": false,
    "pycharm": {
     "name": "#%% md\n"
    }
   }
  },
  {
   "cell_type": "code",
   "execution_count": 2,
   "outputs": [
    {
     "name": "stderr",
     "output_type": "stream",
     "text": [
      "/home/pbilko/PycharmProjects/KeywordExtractor (1)/venv/lib/python3.8/site-packages/osmnx/geocoder.py:110: FutureWarning: The frame.append method is deprecated and will be removed from pandas in a future version. Use pandas.concat instead.\n",
      "  gdf = gdf.append(_geocode_query_to_gdf(q, wr, by_osmid))\n"
     ]
    }
   ],
   "source": [
    "g, nodes, edges = get_graph_from_place('Kraków, Poland')"
   ],
   "metadata": {
    "collapsed": false,
    "pycharm": {
     "name": "#%%\n"
    }
   }
  },
  {
   "cell_type": "code",
   "execution_count": null,
   "outputs": [],
   "source": [
    "plot_centralities(g, 'Unchanged')"
   ],
   "metadata": {
    "collapsed": false,
    "pycharm": {
     "name": "#%%\n",
     "is_executing": true
    }
   }
  },
  {
   "cell_type": "code",
   "execution_count": 4,
   "outputs": [],
   "source": [
    "node_csv_files = os.listdir('values')\n",
    "node_csv_files = [f'values/{filename}' for filename in node_csv_files]"
   ],
   "metadata": {
    "collapsed": false,
    "pycharm": {
     "name": "#%%\n"
    }
   }
  },
  {
   "cell_type": "code",
   "execution_count": 4,
   "outputs": [],
   "source": [],
   "metadata": {
    "collapsed": false,
    "pycharm": {
     "name": "#%%\n"
    }
   }
  }
 ],
 "metadata": {
  "kernelspec": {
   "display_name": "Python 3",
   "language": "python",
   "name": "python3"
  },
  "language_info": {
   "codemirror_mode": {
    "name": "ipython",
    "version": 3
   },
   "file_extension": ".py",
   "mimetype": "text/x-python",
   "name": "python",
   "nbconvert_exporter": "python",
   "pygments_lexer": "ipython3",
   "version": "3.8.10"
  }
 },
 "nbformat": 4,
 "nbformat_minor": 0
}