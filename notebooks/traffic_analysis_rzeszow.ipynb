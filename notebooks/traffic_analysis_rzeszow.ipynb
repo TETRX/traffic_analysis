{
  "cells": [
    {
      "cell_type": "markdown",
      "source": [
        "# Traffic analysis for Rzeszów\n"
      ],
      "metadata": {
        "id": "hgUNcuEr5rQs"
      }
    },
    {
      "cell_type": "markdown",
      "source": [
        "## Setup"
      ],
      "metadata": {
        "id": "IvmVUkBn-HxO"
      }
    },
    {
      "cell_type": "code",
      "source": [
        "path_to_trafic_analysis_repo = ''"
      ],
      "metadata": {
        "id": "sI-HRvY1Bwd3"
      },
      "execution_count": null,
      "outputs": []
    },
    {
      "cell_type": "code",
      "execution_count": null,
      "metadata": {
        "id": "dRSPdEHn_NWH"
      },
      "outputs": [],
      "source": [
        "!pip install osmnx networkx\n",
        "!python -m pip uninstall matplotlib\n",
        "!pip install matplotlib==3.1.3\n",
        "\n",
        "from google.colab import drive\n",
        "drive.mount('/content/gdrive/')\n",
        "\n",
        "import sys\n",
        "sys.path.append(path_to_trafic_analysis_repo)\n"
      ]
    },
    {
      "cell_type": "code",
      "execution_count": null,
      "metadata": {
        "id": "XrseZ7Xk-qhs"
      },
      "outputs": [],
      "source": [
        "import random\n",
        "\n",
        "import osmnx as ox\n",
        "import networkx as nx\n",
        "from multiprocessing import Pool\n",
        "import itertools\n",
        "\n",
        "\n",
        "import matplotlib.pyplot as plt\n",
        "from typing import (\n",
        "    List,\n",
        "    Set,\n",
        "    Tuple,\n",
        ")\n",
        "\n",
        "try:\n",
        "    import importlib\n",
        "    import graph_edit_functions\n",
        "    import centrality_algorithms\n",
        "    import plot_functions\n",
        "    importlib.reload(graph_edit_functions)\n",
        "    importlib.reload(plot_functions)\n",
        "    importlib.reload(centrality_algorithms)\n",
        "except Exception as e:\n",
        "    print(e)\n",
        "\n",
        "from graph_edit_functions import *\n",
        "from centrality_algorithms import *\n",
        "from plot_functions import *"
      ]
    },
    {
      "cell_type": "markdown",
      "source": [
        "## Plot an unchanged graph of Rzeszow"
      ],
      "metadata": {
        "id": "OUeQ5vc4_JKW"
      }
    },
    {
      "cell_type": "code",
      "source": [
        "# Load the graph of Rzeszow\n",
        "\n",
        "# bbox_rzeszow = (50.0647, 50.0154, 21.9618, 22.0454)\n",
        "# g, nodes, edges = get_graph_from_bbox(*bbox_rzeszow)\n",
        "\n",
        "bbox_rzeszow_mini = (50.0383, 50.0535, 21.9748, 22.0153)\n",
        "g, nodes, edges = get_graph_from_bbox(*bbox_rzeszow_mini)"
      ],
      "metadata": {
        "id": "4sEa8g-e_Iqe"
      },
      "execution_count": null,
      "outputs": []
    },
    {
      "cell_type": "code",
      "source": [
        "plot_new_roads(g, [], 'rzeszow_unchanged')\n",
        "unchanged_centralities = plot_centralities(g, f'rzeszow_unchanged');"
      ],
      "metadata": {
        "id": "UpnehNhg_QVK"
      },
      "execution_count": null,
      "outputs": []
    },
    {
      "cell_type": "markdown",
      "source": [
        "## Remove Marszałkowska Street"
      ],
      "metadata": {
        "id": "lJWvVhqY-MgP"
      }
    },
    {
      "cell_type": "code",
      "source": [
        "# Load the graph of Rzeszow\n",
        "\n",
        "# bbox_rzeszow = (50.0647, 50.0154, 21.9618, 22.0454)\n",
        "# g, nodes, edges = get_graph_from_bbox(*bbox_rzeszow)\n",
        "\n",
        "bbox_rzeszow_mini = (50.0383, 50.0535, 21.9748, 22.0153)\n",
        "g, nodes, edges = get_graph_from_bbox(*bbox_rzeszow_mini)\n",
        "g_old = g.copy()"
      ],
      "metadata": {
        "id": "ssRAwSXr-X38"
      },
      "execution_count": null,
      "outputs": []
    },
    {
      "cell_type": "code",
      "source": [
        "# Remove nodes from Marszałkowska Street \n",
        "\n",
        "street_name='Marszałkowska'\n",
        "removed_nodes = remove_street(g, edges, street_name=street_name)\n",
        "\n",
        "plot_new_roads(g, removed_nodes, street_name)\n",
        "removed_street_centralities = plot_centralities(g, f'rzeszow_removed_{street_name}')"
      ],
      "metadata": {
        "id": "ptBS_lNV-V-5"
      },
      "execution_count": null,
      "outputs": []
    },
    {
      "cell_type": "code",
      "source": [
        "# Plot difference\n",
        "\n",
        "plot_centralities_diff(g, unchanged_centralities, removed_street_centralities, f'rzeszow_removed_{street_name}')"
      ],
      "metadata": {
        "id": "b7uQPUvoPPQi"
      },
      "execution_count": null,
      "outputs": []
    },
    {
      "cell_type": "markdown",
      "source": [
        "## Add new connection between Rondo Jana Pawła II and Rondo Unii Europejskiej"
      ],
      "metadata": {
        "id": "By1ijpOz_dB7"
      }
    },
    {
      "cell_type": "code",
      "source": [
        "# Load the graph of Rzeszow\n",
        "\n",
        "# bbox_rzeszow = (50.0647, 50.0154, 21.9618, 22.0454)\n",
        "# g, nodes, edges = get_graph_from_bbox(*bbox_rzeszow)\n",
        "\n",
        "bbox_rzeszow_mini = (50.0383, 50.0535, 21.9748, 22.0153)\n",
        "g, nodes, edges = get_graph_from_bbox(*bbox_rzeszow_mini)"
      ],
      "metadata": {
        "id": "IiTzKRUD_iym"
      },
      "execution_count": null,
      "outputs": []
    },
    {
      "cell_type": "code",
      "source": [
        "# Find nodes of target spots\n",
        "\n",
        "nodes.reset_index(inplace=True)\n",
        "\n",
        "jp2_north_south = 50.04454, 50.04605\n",
        "jp2_west_east = 21.98106, 21.98465\n",
        "\n",
        "y = nodes[nodes['y'].between(*jp2_north_south)]\n",
        "x = nodes[nodes['x'].between(*jp2_west_east)]\n",
        "\n",
        "found_nodes = pd.merge(x, y, how='inner')\n",
        "\n",
        "print(f'Nodes for jp2: {found_nodes.osmid}')\n",
        "\n",
        "ue_north_south = 50.04733, 50.04904\n",
        "ue_west_east = 21.99830, 22.00050\n",
        "\n",
        "y = nodes[nodes['y'].between(*ue_north_south)]\n",
        "x = nodes[nodes['x'].between(*ue_west_east)]\n",
        "\n",
        "found_nodes = pd.merge(x, y, how='inner')\n",
        "\n",
        "print(f'Nodes for ue: {found_nodes.osmid}')"
      ],
      "metadata": {
        "id": "4833KkFZ_jSK"
      },
      "execution_count": null,
      "outputs": []
    },
    {
      "cell_type": "code",
      "source": [
        "# Add new connection\n",
        "\n",
        "rondo_jp2_node_id = 270730841\n",
        "rondo_ue_node_id = 34662452\n",
        "\n",
        "add_edge(g, rondo_jp2_node_id, rondo_ue_node_id)\n",
        "plot_new_roads(g, [(rondo_jp2_node_id, rondo_ue_node_id)], 'jp2-ue')\n",
        "added_connection_centralities = plot_centralities(g, 'rzeszow_jp2_ue')"
      ],
      "metadata": {
        "id": "BtDvgKCPA49t"
      },
      "execution_count": null,
      "outputs": []
    },
    {
      "cell_type": "code",
      "source": [
        "# Plot difference\n",
        "\n",
        "plot_centralities_diff(g, unchanged_centralities, added_connection_centralities, 'rzeszow_jp2_ue')"
      ],
      "metadata": {
        "id": "pFITRK8pPZwd"
      },
      "execution_count": null,
      "outputs": []
    }
  ],
  "metadata": {
    "colab": {
      "collapsed_sections": [],
      "name": "traffic_analysis_rzeszow.ipynb",
      "provenance": []
    },
    "kernelspec": {
      "display_name": "Python 3",
      "language": "python",
      "name": "python3"
    },
    "language_info": {
      "codemirror_mode": {
        "name": "ipython",
        "version": 3
      },
      "file_extension": ".py",
      "mimetype": "text/x-python",
      "name": "python",
      "nbconvert_exporter": "python",
      "pygments_lexer": "ipython3",
      "version": "3.8.10"
    }
  },
  "nbformat": 4,
  "nbformat_minor": 0
}