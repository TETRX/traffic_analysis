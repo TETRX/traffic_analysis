{
  "cells": [
    {
      "cell_type": "markdown",
      "metadata": {
        "id": "hgUNcuEr5rQs"
      },
      "source": [
        "# Traffic analysis for Rzeszów\n"
      ]
    },
    {
      "cell_type": "markdown",
      "metadata": {
        "id": "IvmVUkBn-HxO"
      },
      "source": [
        "## Setup"
      ]
    },
    {
      "cell_type": "code",
      "execution_count": null,
      "metadata": {
        "id": "sI-HRvY1Bwd3"
      },
      "outputs": [],
      "source": [
        "path_to_trafic_analysis_repo = ''"
      ]
    },
    {
      "cell_type": "code",
      "execution_count": null,
      "metadata": {
        "id": "dRSPdEHn_NWH"
      },
      "outputs": [],
      "source": [
        "!pip install osmnx networkx\n",
        "!python -m pip uninstall matplotlib\n",
        "!pip install matplotlib==3.1.3\n",
        "\n",
        "from google.colab import drive\n",
        "drive.mount('/content/gdrive/')\n",
        "\n",
        "import sys\n",
        "sys.path.append(path_to_trafic_analysis_repo)\n"
      ]
    },
    {
      "cell_type": "code",
      "execution_count": 1,
      "metadata": {
        "id": "XrseZ7Xk-qhs"
      },
      "outputs": [
        {
          "name": "stdout",
          "output_type": "stream",
          "text": [
            "No module named 'centrality_algorithms'\n"
          ]
        },
        {
          "ename": "ModuleNotFoundError",
          "evalue": "No module named 'centrality_algorithms'",
          "output_type": "error",
          "traceback": [
            "\u001b[0;31m---------------------------------------------------------------------------\u001b[0m",
            "\u001b[0;31mModuleNotFoundError\u001b[0m                       Traceback (most recent call last)",
            "\u001b[1;32m/home/wojtek/ed/project_clean_frfr/traffic_analysis/traffic_analysis_rzeszow.ipynb Cell 5'\u001b[0m in \u001b[0;36m<module>\u001b[0;34m\u001b[0m\n\u001b[1;32m     <a href='vscode-notebook-cell:/home/wojtek/ed/project_clean_frfr/traffic_analysis/traffic_analysis_rzeszow.ipynb#ch0000004?line=26'>27</a>\u001b[0m \u001b[39mfrom\u001b[39;00m \u001b[39msrc\u001b[39;00m\u001b[39m.\u001b[39;00m\u001b[39mgraph_edit_functions\u001b[39;00m \u001b[39mimport\u001b[39;00m \u001b[39m*\u001b[39m\n\u001b[1;32m     <a href='vscode-notebook-cell:/home/wojtek/ed/project_clean_frfr/traffic_analysis/traffic_analysis_rzeszow.ipynb#ch0000004?line=27'>28</a>\u001b[0m \u001b[39mfrom\u001b[39;00m \u001b[39msrc\u001b[39;00m\u001b[39m.\u001b[39;00m\u001b[39mcentrality_algorithms\u001b[39;00m \u001b[39mimport\u001b[39;00m \u001b[39m*\u001b[39m\n\u001b[0;32m---> <a href='vscode-notebook-cell:/home/wojtek/ed/project_clean_frfr/traffic_analysis/traffic_analysis_rzeszow.ipynb#ch0000004?line=28'>29</a>\u001b[0m \u001b[39mfrom\u001b[39;00m \u001b[39msrc\u001b[39;00m\u001b[39m.\u001b[39;00m\u001b[39mplot_functions\u001b[39;00m \u001b[39mimport\u001b[39;00m \u001b[39m*\u001b[39m\n",
            "File \u001b[0;32m~/ed/project_clean_frfr/traffic_analysis/src/plot_functions.py:18\u001b[0m, in \u001b[0;36m<module>\u001b[0;34m\u001b[0m\n\u001b[1;32m     <a href='file:///home/wojtek/ed/project_clean_frfr/traffic_analysis/src/plot_functions.py?line=14'>15</a>\u001b[0m \u001b[39mimport\u001b[39;00m \u001b[39mmatplotlib\u001b[39;00m\u001b[39m.\u001b[39;00m\u001b[39mcm\u001b[39;00m \u001b[39mas\u001b[39;00m \u001b[39mcm\u001b[39;00m\n\u001b[1;32m     <a href='file:///home/wojtek/ed/project_clean_frfr/traffic_analysis/src/plot_functions.py?line=15'>16</a>\u001b[0m \u001b[39mimport\u001b[39;00m \u001b[39mmatplotlib\u001b[39;00m\u001b[39m.\u001b[39;00m\u001b[39mcolors\u001b[39;00m \u001b[39mas\u001b[39;00m \u001b[39mmcolors\u001b[39;00m\n\u001b[0;32m---> <a href='file:///home/wojtek/ed/project_clean_frfr/traffic_analysis/src/plot_functions.py?line=17'>18</a>\u001b[0m \u001b[39mfrom\u001b[39;00m \u001b[39mcentrality_algorithms\u001b[39;00m \u001b[39mimport\u001b[39;00m betweenness_centrality_parallel, pagerank, \\\n\u001b[1;32m     <a href='file:///home/wojtek/ed/project_clean_frfr/traffic_analysis/src/plot_functions.py?line=18'>19</a>\u001b[0m     weighted_eccentricity, clustering_coefficient\n\u001b[1;32m     <a href='file:///home/wojtek/ed/project_clean_frfr/traffic_analysis/src/plot_functions.py?line=19'>20</a>\u001b[0m \u001b[39mfrom\u001b[39;00m \u001b[39mconfig\u001b[39;00m \u001b[39mimport\u001b[39;00m HIGHWAY_WEIGHTS\n\u001b[1;32m     <a href='file:///home/wojtek/ed/project_clean_frfr/traffic_analysis/src/plot_functions.py?line=22'>23</a>\u001b[0m \u001b[39mdef\u001b[39;00m \u001b[39mbasic_plot\u001b[39m(\n\u001b[1;32m     <a href='file:///home/wojtek/ed/project_clean_frfr/traffic_analysis/src/plot_functions.py?line=23'>24</a>\u001b[0m         G,\n\u001b[1;32m     <a href='file:///home/wojtek/ed/project_clean_frfr/traffic_analysis/src/plot_functions.py?line=24'>25</a>\u001b[0m         node_weights,\n\u001b[0;32m   (...)\u001b[0m\n\u001b[1;32m     <a href='file:///home/wojtek/ed/project_clean_frfr/traffic_analysis/src/plot_functions.py?line=29'>30</a>\u001b[0m         show_plot\u001b[39m=\u001b[39m\u001b[39mTrue\u001b[39;00m\n\u001b[1;32m     <a href='file:///home/wojtek/ed/project_clean_frfr/traffic_analysis/src/plot_functions.py?line=30'>31</a>\u001b[0m         ):\n",
            "\u001b[0;31mModuleNotFoundError\u001b[0m: No module named 'centrality_algorithms'"
          ]
        }
      ],
      "source": [
        "import random\n",
        "\n",
        "import osmnx as ox\n",
        "import networkx as nx\n",
        "from multiprocessing import Pool\n",
        "import itertools\n",
        "\n",
        "\n",
        "import matplotlib.pyplot as plt\n",
        "from typing import (\n",
        "    List,\n",
        "    Set,\n",
        "    Tuple,\n",
        ")\n",
        "\n",
        "try:\n",
        "    import importlib\n",
        "    import src.graph_edit_functions\n",
        "    import src.centrality_algorithms\n",
        "    import src.plot_functions\n",
        "    importlib.reload(src.graph_edit_functions)\n",
        "    importlib.reload(src.plot_functions)\n",
        "    importlib.reload(src.centrality_algorithms)\n",
        "except Exception as e:\n",
        "    print(e)\n",
        "\n",
        "from src.graph_edit_functions import *\n",
        "from src.centrality_algorithms import *\n",
        "from src.plot_functions import *"
      ]
    },
    {
      "cell_type": "markdown",
      "metadata": {
        "id": "OUeQ5vc4_JKW"
      },
      "source": [
        "## Plot an unchanged graph of Rzeszow"
      ]
    },
    {
      "cell_type": "code",
      "execution_count": null,
      "metadata": {
        "id": "4sEa8g-e_Iqe"
      },
      "outputs": [],
      "source": [
        "# Load the graph of Rzeszow\n",
        "\n",
        "# bbox_rzeszow = (50.0647, 50.0154, 21.9618, 22.0454)\n",
        "# g, nodes, edges = get_graph_from_bbox(*bbox_rzeszow)\n",
        "\n",
        "bbox_rzeszow_mini = (50.0383, 50.0535, 21.9748, 22.0153)\n",
        "g, nodes, edges = get_graph_from_bbox(*bbox_rzeszow_mini)"
      ]
    },
    {
      "cell_type": "code",
      "execution_count": null,
      "metadata": {
        "id": "UpnehNhg_QVK"
      },
      "outputs": [],
      "source": [
        "plot_new_roads(g, [], 'rzeszow_unchanged')\n",
        "unchanged_centralities = plot_centralities(g, f'rzeszow_unchanged');"
      ]
    },
    {
      "cell_type": "markdown",
      "metadata": {
        "id": "lJWvVhqY-MgP"
      },
      "source": [
        "## Remove Marszałkowska Street"
      ]
    },
    {
      "cell_type": "code",
      "execution_count": null,
      "metadata": {
        "id": "ssRAwSXr-X38"
      },
      "outputs": [],
      "source": [
        "# Load the graph of Rzeszow\n",
        "\n",
        "# bbox_rzeszow = (50.0647, 50.0154, 21.9618, 22.0454)\n",
        "# g, nodes, edges = get_graph_from_bbox(*bbox_rzeszow)\n",
        "\n",
        "bbox_rzeszow_mini = (50.0383, 50.0535, 21.9748, 22.0153)\n",
        "g, nodes, edges = get_graph_from_bbox(*bbox_rzeszow_mini)\n",
        "g_old = g.copy()"
      ]
    },
    {
      "cell_type": "code",
      "execution_count": null,
      "metadata": {
        "id": "ptBS_lNV-V-5"
      },
      "outputs": [],
      "source": [
        "# Remove nodes from Marszałkowska Street \n",
        "\n",
        "street_name='Marszałkowska'\n",
        "removed_nodes = remove_street(g, edges, street_name=street_name)\n",
        "\n",
        "plot_new_roads(g, removed_nodes, street_name)\n",
        "removed_street_centralities = plot_centralities(g, f'rzeszow_removed_{street_name}')"
      ]
    },
    {
      "cell_type": "code",
      "execution_count": null,
      "metadata": {
        "id": "b7uQPUvoPPQi"
      },
      "outputs": [],
      "source": [
        "# Plot difference\n",
        "\n",
        "plot_centralities_diff(g, unchanged_centralities, removed_street_centralities, f'rzeszow_removed_{street_name}')"
      ]
    },
    {
      "cell_type": "markdown",
      "metadata": {
        "id": "By1ijpOz_dB7"
      },
      "source": [
        "## Add new connection between Rondo Jana Pawła II and Rondo Unii Europejskiej"
      ]
    },
    {
      "cell_type": "code",
      "execution_count": null,
      "metadata": {
        "id": "IiTzKRUD_iym"
      },
      "outputs": [],
      "source": [
        "# Load the graph of Rzeszow\n",
        "\n",
        "# bbox_rzeszow = (50.0647, 50.0154, 21.9618, 22.0454)\n",
        "# g, nodes, edges = get_graph_from_bbox(*bbox_rzeszow)\n",
        "\n",
        "bbox_rzeszow_mini = (50.0383, 50.0535, 21.9748, 22.0153)\n",
        "g, nodes, edges = get_graph_from_bbox(*bbox_rzeszow_mini)"
      ]
    },
    {
      "cell_type": "code",
      "execution_count": null,
      "metadata": {
        "id": "4833KkFZ_jSK"
      },
      "outputs": [],
      "source": [
        "# Find nodes of target spots\n",
        "\n",
        "nodes.reset_index(inplace=True)\n",
        "\n",
        "jp2_north_south = 50.04454, 50.04605\n",
        "jp2_west_east = 21.98106, 21.98465\n",
        "\n",
        "y = nodes[nodes['y'].between(*jp2_north_south)]\n",
        "x = nodes[nodes['x'].between(*jp2_west_east)]\n",
        "\n",
        "found_nodes = pd.merge(x, y, how='inner')\n",
        "\n",
        "print(f'Nodes for jp2: {found_nodes.osmid}')\n",
        "\n",
        "ue_north_south = 50.04733, 50.04904\n",
        "ue_west_east = 21.99830, 22.00050\n",
        "\n",
        "y = nodes[nodes['y'].between(*ue_north_south)]\n",
        "x = nodes[nodes['x'].between(*ue_west_east)]\n",
        "\n",
        "found_nodes = pd.merge(x, y, how='inner')\n",
        "\n",
        "print(f'Nodes for ue: {found_nodes.osmid}')"
      ]
    },
    {
      "cell_type": "code",
      "execution_count": null,
      "metadata": {
        "id": "BtDvgKCPA49t"
      },
      "outputs": [],
      "source": [
        "# Add new connection\n",
        "\n",
        "rondo_jp2_node_id = 270730841\n",
        "rondo_ue_node_id = 34662452\n",
        "\n",
        "add_edge(g, rondo_jp2_node_id, rondo_ue_node_id)\n",
        "plot_new_roads(g, [(rondo_jp2_node_id, rondo_ue_node_id)], 'jp2-ue')\n",
        "added_connection_centralities = plot_centralities(g, 'rzeszow_jp2_ue')"
      ]
    },
    {
      "cell_type": "code",
      "execution_count": null,
      "metadata": {
        "id": "pFITRK8pPZwd"
      },
      "outputs": [],
      "source": [
        "# Plot difference\n",
        "\n",
        "plot_centralities_diff(g, unchanged_centralities, added_connection_centralities, 'rzeszow_jp2_ue')"
      ]
    }
  ],
  "metadata": {
    "colab": {
      "collapsed_sections": [],
      "name": "traffic_analysis_rzeszow.ipynb",
      "provenance": []
    },
    "interpreter": {
      "hash": "31f2aee4e71d21fbe5cf8b01ff0e069b9275f58929596ceb00d14d90e3e16cd6"
    },
    "kernelspec": {
      "display_name": "Python 3.8.10 64-bit",
      "language": "python",
      "name": "python3"
    },
    "language_info": {
      "codemirror_mode": {
        "name": "ipython",
        "version": 3
      },
      "file_extension": ".py",
      "mimetype": "text/x-python",
      "name": "python",
      "nbconvert_exporter": "python",
      "pygments_lexer": "ipython3",
      "version": "3.8.10"
    }
  },
  "nbformat": 4,
  "nbformat_minor": 0
}
