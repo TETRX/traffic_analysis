{
 "cells": [
  {
   "cell_type": "code",
   "execution_count": null,
   "metadata": {
    "collapsed": true
   },
   "outputs": [],
   "source": [
    "import osmnx as ox\n",
    "import networkx as nx\n",
    "from multiprocessing import Pool\n",
    "import itertools\n",
    "\n",
    "\n",
    "import matplotlib.pyplot as plt\n"
   ]
  },
  {
   "cell_type": "code",
   "execution_count": null,
   "metadata": {},
   "outputs": [],
   "source": [
    "try:\n",
    "    import importlib\n",
    "    import src.graph_edit_functions\n",
    "    import src.centrality_algorithms\n",
    "    import src.plot_functions\n",
    "    importlib.reload(src.graph_edit_functions)\n",
    "    importlib.reload(src.plot_functions)\n",
    "    importlib.reload(src.centrality_algorithms)\n",
    "except Exception as e:\n",
    "    print(e)\n",
    "\n",
    "from src.graph_edit_functions import *\n",
    "from src.centrality_algorithms import *\n",
    "from src.plot_functions import *"
   ]
  },
  {
   "cell_type": "code",
   "execution_count": null,
   "metadata": {
    "collapsed": false,
    "pycharm": {
     "name": "#%%\n"
    }
   },
   "outputs": [],
   "source": [
    "g = ox.graph_from_place(\"Wrocław, Poland\", network_type=\"drive\")"
   ]
  },
  {
   "cell_type": "code",
   "execution_count": null,
   "metadata": {},
   "outputs": [],
   "source": [
    "\n",
    "\n",
    "g = get_sc(g)\n"
   ]
  },
  {
   "cell_type": "code",
   "execution_count": null,
   "metadata": {
    "collapsed": false,
    "pycharm": {
     "name": "#%%\n"
    }
   },
   "outputs": [],
   "source": [
    "g.number_of_nodes()"
   ]
  },
  {
   "cell_type": "code",
   "execution_count": null,
   "metadata": {},
   "outputs": [],
   "source": [
    "from typing import (\n",
    "    List,\n",
    "    Union,\n",
    "    Dict,\n",
    ")\n",
    "import numpy as np\n",
    "\n",
    "asc_highway_weights: Dict[str, float] = {\n",
    "    'residential': 2,\n",
    "    'tertiary': 2,\n",
    "    'living_street': 4,\n",
    "    'secondary': 6,\n",
    "    'unclassified': 1,\n",
    "    'primary': 8,\n",
    "    'secondary_link': 5,\n",
    "    'tertiary_link': 5,\n",
    "    'primary_link': 5,\n",
    "    'motorway_link': 5,\n",
    "    'motorway': 10,\n",
    "    'trunk_link': 5,\n",
    "    'trunk': 10,\n",
    "}\n",
    "\n",
    "desc_highway_weights: Dict[str, float] = {\n",
    "    'residential': 10,\n",
    "    'tertiary': 10,\n",
    "    'living_street': 8,\n",
    "    'secondary': 6,\n",
    "    'unclassified': 11,\n",
    "    'primary': 10,\n",
    "    'secondary_link': 7,\n",
    "    'tertiary_link': 7,\n",
    "    'primary_link': 7,\n",
    "    'motorway_link': 7,\n",
    "    'motorway': 2,\n",
    "    'trunk_link': 7,\n",
    "    'trunk': 2,\n",
    "}\n",
    "\n",
    "def multi_road_type_weight(multi_road_type: List[str], weight_dict: Dict[str, float]):\n",
    "    return np.mean(list(weight_dict[road_type] for road_type in multi_road_type))\n",
    "\n",
    "def road_type_weight(road_type: Union[str, List[str]], weight_dict: Dict[str, float]):\n",
    "    return weight_dict[road_type] if type(road_type) == type(\"\") else multi_road_type_weight(road_type, weight_dict)\n",
    "\n"
   ]
  },
  {
   "cell_type": "code",
   "execution_count": null,
   "metadata": {},
   "outputs": [],
   "source": [
    "METRIC_WEIGHTS = {\n",
    "    \"bc\": desc_highway_weights,\n",
    "    \"pr\": asc_highway_weights,\n",
    "    \"cc\": asc_highway_weights,\n",
    "    \"ec\": asc_highway_weights,\n",
    "    \"ecc\": desc_highway_weights\n",
    "}\n",
    "\n",
    "def assign_weights(graph):\n",
    "    for metric in METRIC_WEIGHTS:\n",
    "        nodes, edges = ox.graph_to_gdfs(g)\n",
    "        edge_weights = edges.highway.map(lambda road_type: road_type_weight(road_type, METRIC_WEIGHTS[metric]))\n",
    "        nx.set_edge_attributes(g, edge_weights, f'{metric}_weight')\n",
    "\n",
    "assign_weights(g)"
   ]
  },
  {
   "cell_type": "code",
   "execution_count": null,
   "metadata": {
    "collapsed": false,
    "pycharm": {
     "name": "#%%\n"
    }
   },
   "outputs": [],
   "source": [
    "ox.plot_graph(g)"
   ]
  },
  {
   "cell_type": "markdown",
   "metadata": {
    "collapsed": false,
    "pycharm": {
     "name": "#%% md\n"
    }
   },
   "source": [
    "## Betweenness Centrality"
   ]
  },
  {
   "cell_type": "code",
   "execution_count": null,
   "metadata": {
    "collapsed": false,
    "pycharm": {
     "name": "#%%\n"
    }
   },
   "outputs": [],
   "source": [
    "bc_dict = betweenness_centrality_parallel(g, processes=8)"
   ]
  },
  {
   "cell_type": "code",
   "execution_count": null,
   "metadata": {
    "collapsed": false,
    "pycharm": {
     "name": "#%%\n"
    }
   },
   "outputs": [],
   "source": [
    "\n",
    "basic_plot(g, bc_dict, title=\"betweenness_centrality\", path=\"images/wrocław/wrc-betweenness-centrality.png\")"
   ]
  },
  {
   "cell_type": "markdown",
   "metadata": {},
   "source": [
    "## Weighted Betweenness Centrality"
   ]
  },
  {
   "cell_type": "code",
   "execution_count": null,
   "metadata": {},
   "outputs": [],
   "source": [
    "wbc_dict = betweenness_centrality_parallel(g, processes=8, weight=\"bc_weight\")"
   ]
  },
  {
   "cell_type": "code",
   "execution_count": null,
   "metadata": {},
   "outputs": [],
   "source": [
    "basic_plot(g, wbc_dict, title=\"weighted_betweenness_centrality\", path=\"images/wrocław/wrc-weighted-betweenness-centrality.png\")"
   ]
  },
  {
   "cell_type": "markdown",
   "metadata": {},
   "source": [
    " ## Pagerank"
   ]
  },
  {
   "cell_type": "code",
   "execution_count": null,
   "metadata": {
    "collapsed": false,
    "pycharm": {
     "name": "#%%\n"
    }
   },
   "outputs": [],
   "source": [
    "pr_dict = nx.pagerank(g)"
   ]
  },
  {
   "cell_type": "code",
   "execution_count": null,
   "metadata": {
    "collapsed": false,
    "pycharm": {
     "name": "#%%\n"
    }
   },
   "outputs": [],
   "source": [
    "basic_plot(g, pr_dict, title=\"pagerank\", path=\"images/wrocław/wrc-pagerank-centrality.png\")"
   ]
  },
  {
   "cell_type": "markdown",
   "metadata": {},
   "source": [
    "## Weighted Pagerank"
   ]
  },
  {
   "cell_type": "code",
   "execution_count": null,
   "metadata": {},
   "outputs": [],
   "source": [
    "wpr_dict = nx.pagerank(g, weight = \"pr_weight\")"
   ]
  },
  {
   "cell_type": "code",
   "execution_count": null,
   "metadata": {},
   "outputs": [],
   "source": [
    "basic_plot(g, wpr_dict, title=\"weighted_pagerank\", path=\"images/wrocław/wrc-weighted-pagerank-centrality.png\")"
   ]
  },
  {
   "cell_type": "markdown",
   "metadata": {},
   "source": [
    "## Clustering Coefficient"
   ]
  },
  {
   "cell_type": "code",
   "execution_count": null,
   "metadata": {
    "collapsed": false,
    "pycharm": {
     "name": "#%%\n"
    }
   },
   "outputs": [],
   "source": [
    "# create weighted graph from g\n",
    "g_not_multi = ox.get_digraph(g)\n",
    "\n",
    "c_dict = nx.clustering(g_not_multi)"
   ]
  },
  {
   "cell_type": "code",
   "execution_count": null,
   "metadata": {
    "collapsed": false,
    "pycharm": {
     "name": "#%%\n"
    }
   },
   "outputs": [],
   "source": [
    "basic_plot(g, c_dict, title=\"cc\", path=\"images/wrocław/wrc-clustering-centrality.png\")"
   ]
  },
  {
   "cell_type": "markdown",
   "metadata": {},
   "source": [
    "## Weighted Clustering Coefficient"
   ]
  },
  {
   "cell_type": "code",
   "execution_count": null,
   "metadata": {
    "collapsed": false,
    "pycharm": {
     "name": "#%%\n"
    }
   },
   "outputs": [],
   "source": [
    "# create weighted graph from g\n",
    "g_not_multi = ox.get_digraph(g)\n",
    "\n",
    "wc_dict = nx.clustering(g_not_multi, weight=\"cc_weigth\")\n",
    "\n",
    "nx.set_node_attributes(g, values=wc_dict, name=\"w_clustering_coefficient\")"
   ]
  },
  {
   "cell_type": "code",
   "execution_count": null,
   "metadata": {},
   "outputs": [],
   "source": [
    "basic_plot(g, wc_dict, title=\"cc\", path=\"images/wrocław/wrc-weighted-clustering-centrality.png\")"
   ]
  },
  {
   "cell_type": "markdown",
   "metadata": {},
   "source": [
    "## Eigenvector centrality"
   ]
  },
  {
   "cell_type": "code",
   "execution_count": null,
   "metadata": {},
   "outputs": [],
   "source": [
    "ec_dict = nx.eigenvector_centrality_numpy(g)\n"
   ]
  },
  {
   "cell_type": "code",
   "execution_count": null,
   "metadata": {},
   "outputs": [],
   "source": [
    "basic_plot(g, ec_dict, title=\"eigen\", path=\"images/wrocław/wrc-eigenvector-centraility.png\")"
   ]
  },
  {
   "cell_type": "code",
   "execution_count": null,
   "metadata": {},
   "outputs": [],
   "source": [
    "aec_dict = nx.pagerank(g, alpha=0.05)\n"
   ]
  },
  {
   "cell_type": "code",
   "execution_count": null,
   "metadata": {},
   "outputs": [],
   "source": [
    "basic_plot(g, aec_dict, title=\"almost_eigen\", path=\"images/wrocław/wrc-almost-eigenvector-centraility.png\")"
   ]
  },
  {
   "cell_type": "markdown",
   "metadata": {},
   "source": [
    "## Weighted Eigenvector Centrality"
   ]
  },
  {
   "cell_type": "code",
   "execution_count": null,
   "metadata": {},
   "outputs": [],
   "source": [
    "wec_dict = nx.eigenvector_centrality_numpy(g, weight = 'ec_weight')\n"
   ]
  },
  {
   "cell_type": "code",
   "execution_count": null,
   "metadata": {},
   "outputs": [],
   "source": [
    "basic_plot(g, wec_dict, \"weighted_eigenvector_centraility\", path=\"images/wrocław/wrc-weighted-eigenvector-centrality.png\")"
   ]
  },
  {
   "cell_type": "code",
   "execution_count": null,
   "metadata": {},
   "outputs": [],
   "source": [
    "waec_dict = nx.pagerank(g,weight=\"ec_weight\", alpha=0.05, max_iter = 1000)\n"
   ]
  },
  {
   "cell_type": "markdown",
   "metadata": {},
   "source": [
    "## Eccentricity"
   ]
  },
  {
   "cell_type": "code",
   "execution_count": null,
   "metadata": {},
   "outputs": [],
   "source": [
    "ecc_dict = nx.eccentricity(g)\n"
   ]
  },
  {
   "cell_type": "code",
   "execution_count": null,
   "metadata": {},
   "outputs": [],
   "source": [
    "basic_plot(g, ecc_dict, \"eccentricity\",path=\"images/wrocław/wrc-eccentiricity.png\")"
   ]
  },
  {
   "cell_type": "markdown",
   "metadata": {},
   "source": [
    "## Weighted Eccentricity"
   ]
  },
  {
   "cell_type": "code",
   "execution_count": null,
   "metadata": {},
   "outputs": [],
   "source": []
  },
  {
   "cell_type": "code",
   "execution_count": null,
   "metadata": {},
   "outputs": [],
   "source": [
    "wecc_dict = weighted_eccentricity(g, \"ecc_weight\")"
   ]
  },
  {
   "cell_type": "code",
   "execution_count": null,
   "metadata": {},
   "outputs": [],
   "source": [
    "basic_plot(g, wecc_dict, \"weighted_eccentricity\", path=\"images/wrocław/wrc-weighted-eccentricity.png\")"
   ]
  },
  {
   "cell_type": "markdown",
   "metadata": {},
   "source": [
    "## Random Walk Betweenness"
   ]
  },
  {
   "cell_type": "code",
   "execution_count": null,
   "metadata": {},
   "outputs": [],
   "source": []
  }
 ],
 "metadata": {
  "interpreter": {
   "hash": "31f2aee4e71d21fbe5cf8b01ff0e069b9275f58929596ceb00d14d90e3e16cd6"
  },
  "kernelspec": {
   "display_name": "Python 3.8.10 64-bit",
   "language": "python",
   "name": "python3"
  },
  "language_info": {
   "codemirror_mode": {
    "name": "ipython",
    "version": 3
   },
   "file_extension": ".py",
   "mimetype": "text/x-python",
   "name": "python",
   "nbconvert_exporter": "python",
   "pygments_lexer": "ipython3",
   "version": "3.8.10"
  }
 },
 "nbformat": 4,
 "nbformat_minor": 0
}
